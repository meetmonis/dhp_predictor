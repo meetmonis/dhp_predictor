{
 "cells": [
  {
   "cell_type": "markdown",
   "id": "52398c48",
   "metadata": {},
   "source": [
    "<h2 style = 'color:purple'> Delhi House Price Prediction Model </h2>"
   ]
  },
  {
   "cell_type": "code",
   "execution_count": 208,
   "id": "ed8bd3f5",
   "metadata": {},
   "outputs": [],
   "source": [
    "import pandas as pd\n",
    "import numpy as np\n",
    "import seaborn as sns\n",
    "import matplotlib.pyplot as plt\n",
    "import warnings\n",
    "warnings.filterwarnings('ignore')\n",
    "import matplotlib"
   ]
  },
  {
   "cell_type": "markdown",
   "id": "93305b40",
   "metadata": {},
   "source": [
    "<h3 style='color:purple'>Perform Data Cleaning</h3>"
   ]
  },
  {
   "cell_type": "code",
   "execution_count": 209,
   "id": "c6463a20",
   "metadata": {},
   "outputs": [],
   "source": [
    "# Load the csv file \n",
    "house_data = pd.read_csv(\"delhi_house_data.csv\")"
   ]
  },
  {
   "cell_type": "code",
   "execution_count": 210,
   "id": "7dd85afc",
   "metadata": {},
   "outputs": [
    {
     "data": {
      "text/html": [
       "<div>\n",
       "<style scoped>\n",
       "    .dataframe tbody tr th:only-of-type {\n",
       "        vertical-align: middle;\n",
       "    }\n",
       "\n",
       "    .dataframe tbody tr th {\n",
       "        vertical-align: top;\n",
       "    }\n",
       "\n",
       "    .dataframe thead th {\n",
       "        text-align: right;\n",
       "    }\n",
       "</style>\n",
       "<table border=\"1\" class=\"dataframe\">\n",
       "  <thead>\n",
       "    <tr style=\"text-align: right;\">\n",
       "      <th></th>\n",
       "      <th>Area</th>\n",
       "      <th>BHK</th>\n",
       "      <th>Bathroom</th>\n",
       "      <th>Furnishing</th>\n",
       "      <th>Locality</th>\n",
       "      <th>Parking</th>\n",
       "      <th>Price</th>\n",
       "      <th>Status</th>\n",
       "      <th>Transaction</th>\n",
       "      <th>Type</th>\n",
       "      <th>Per_Sqft</th>\n",
       "    </tr>\n",
       "  </thead>\n",
       "  <tbody>\n",
       "    <tr>\n",
       "      <th>0</th>\n",
       "      <td>800.0</td>\n",
       "      <td>3</td>\n",
       "      <td>2.0</td>\n",
       "      <td>Semi-Furnished</td>\n",
       "      <td>Rohini Sector 25</td>\n",
       "      <td>1.0</td>\n",
       "      <td>6500000</td>\n",
       "      <td>Ready_to_move</td>\n",
       "      <td>New_Property</td>\n",
       "      <td>Builder_Floor</td>\n",
       "      <td>NaN</td>\n",
       "    </tr>\n",
       "    <tr>\n",
       "      <th>1</th>\n",
       "      <td>750.0</td>\n",
       "      <td>2</td>\n",
       "      <td>2.0</td>\n",
       "      <td>Semi-Furnished</td>\n",
       "      <td>J R Designers Floors, Rohini Sector 24</td>\n",
       "      <td>1.0</td>\n",
       "      <td>5000000</td>\n",
       "      <td>Ready_to_move</td>\n",
       "      <td>New_Property</td>\n",
       "      <td>Apartment</td>\n",
       "      <td>6667.0</td>\n",
       "    </tr>\n",
       "    <tr>\n",
       "      <th>2</th>\n",
       "      <td>950.0</td>\n",
       "      <td>2</td>\n",
       "      <td>2.0</td>\n",
       "      <td>Furnished</td>\n",
       "      <td>Citizen Apartment, Rohini Sector 13</td>\n",
       "      <td>1.0</td>\n",
       "      <td>15500000</td>\n",
       "      <td>Ready_to_move</td>\n",
       "      <td>Resale</td>\n",
       "      <td>Apartment</td>\n",
       "      <td>6667.0</td>\n",
       "    </tr>\n",
       "    <tr>\n",
       "      <th>3</th>\n",
       "      <td>600.0</td>\n",
       "      <td>2</td>\n",
       "      <td>2.0</td>\n",
       "      <td>Semi-Furnished</td>\n",
       "      <td>Rohini Sector 24</td>\n",
       "      <td>1.0</td>\n",
       "      <td>4200000</td>\n",
       "      <td>Ready_to_move</td>\n",
       "      <td>Resale</td>\n",
       "      <td>Builder_Floor</td>\n",
       "      <td>6667.0</td>\n",
       "    </tr>\n",
       "    <tr>\n",
       "      <th>4</th>\n",
       "      <td>650.0</td>\n",
       "      <td>2</td>\n",
       "      <td>2.0</td>\n",
       "      <td>Semi-Furnished</td>\n",
       "      <td>Rohini Sector 24 carpet area 650 sqft status R...</td>\n",
       "      <td>1.0</td>\n",
       "      <td>6200000</td>\n",
       "      <td>Ready_to_move</td>\n",
       "      <td>New_Property</td>\n",
       "      <td>Builder_Floor</td>\n",
       "      <td>6667.0</td>\n",
       "    </tr>\n",
       "    <tr>\n",
       "      <th>...</th>\n",
       "      <td>...</td>\n",
       "      <td>...</td>\n",
       "      <td>...</td>\n",
       "      <td>...</td>\n",
       "      <td>...</td>\n",
       "      <td>...</td>\n",
       "      <td>...</td>\n",
       "      <td>...</td>\n",
       "      <td>...</td>\n",
       "      <td>...</td>\n",
       "      <td>...</td>\n",
       "    </tr>\n",
       "    <tr>\n",
       "      <th>1254</th>\n",
       "      <td>4118.0</td>\n",
       "      <td>4</td>\n",
       "      <td>5.0</td>\n",
       "      <td>Unfurnished</td>\n",
       "      <td>Chittaranjan Park</td>\n",
       "      <td>3.0</td>\n",
       "      <td>55000000</td>\n",
       "      <td>Ready_to_move</td>\n",
       "      <td>New_Property</td>\n",
       "      <td>Builder_Floor</td>\n",
       "      <td>12916.0</td>\n",
       "    </tr>\n",
       "    <tr>\n",
       "      <th>1255</th>\n",
       "      <td>1050.0</td>\n",
       "      <td>3</td>\n",
       "      <td>2.0</td>\n",
       "      <td>Semi-Furnished</td>\n",
       "      <td>Chittaranjan Park</td>\n",
       "      <td>3.0</td>\n",
       "      <td>12500000</td>\n",
       "      <td>Ready_to_move</td>\n",
       "      <td>Resale</td>\n",
       "      <td>Builder_Floor</td>\n",
       "      <td>12916.0</td>\n",
       "    </tr>\n",
       "    <tr>\n",
       "      <th>1256</th>\n",
       "      <td>875.0</td>\n",
       "      <td>3</td>\n",
       "      <td>3.0</td>\n",
       "      <td>Semi-Furnished</td>\n",
       "      <td>Chittaranjan Park</td>\n",
       "      <td>3.0</td>\n",
       "      <td>17500000</td>\n",
       "      <td>Ready_to_move</td>\n",
       "      <td>New_Property</td>\n",
       "      <td>Builder_Floor</td>\n",
       "      <td>12916.0</td>\n",
       "    </tr>\n",
       "    <tr>\n",
       "      <th>1257</th>\n",
       "      <td>990.0</td>\n",
       "      <td>2</td>\n",
       "      <td>2.0</td>\n",
       "      <td>Unfurnished</td>\n",
       "      <td>Chittaranjan Park Block A</td>\n",
       "      <td>1.0</td>\n",
       "      <td>11500000</td>\n",
       "      <td>Ready_to_move</td>\n",
       "      <td>Resale</td>\n",
       "      <td>Builder_Floor</td>\n",
       "      <td>12916.0</td>\n",
       "    </tr>\n",
       "    <tr>\n",
       "      <th>1258</th>\n",
       "      <td>11050.0</td>\n",
       "      <td>3</td>\n",
       "      <td>3.0</td>\n",
       "      <td>Unfurnished</td>\n",
       "      <td>Chittaranjan Park</td>\n",
       "      <td>1.0</td>\n",
       "      <td>18500000</td>\n",
       "      <td>Ready_to_move</td>\n",
       "      <td>New_Property</td>\n",
       "      <td>Builder_Floor</td>\n",
       "      <td>12916.0</td>\n",
       "    </tr>\n",
       "  </tbody>\n",
       "</table>\n",
       "<p>1259 rows × 11 columns</p>\n",
       "</div>"
      ],
      "text/plain": [
       "         Area  BHK  Bathroom      Furnishing  \\\n",
       "0       800.0    3       2.0  Semi-Furnished   \n",
       "1       750.0    2       2.0  Semi-Furnished   \n",
       "2       950.0    2       2.0       Furnished   \n",
       "3       600.0    2       2.0  Semi-Furnished   \n",
       "4       650.0    2       2.0  Semi-Furnished   \n",
       "...       ...  ...       ...             ...   \n",
       "1254   4118.0    4       5.0     Unfurnished   \n",
       "1255   1050.0    3       2.0  Semi-Furnished   \n",
       "1256    875.0    3       3.0  Semi-Furnished   \n",
       "1257    990.0    2       2.0     Unfurnished   \n",
       "1258  11050.0    3       3.0     Unfurnished   \n",
       "\n",
       "                                               Locality  Parking     Price  \\\n",
       "0                                      Rohini Sector 25      1.0   6500000   \n",
       "1                J R Designers Floors, Rohini Sector 24      1.0   5000000   \n",
       "2                   Citizen Apartment, Rohini Sector 13      1.0  15500000   \n",
       "3                                      Rohini Sector 24      1.0   4200000   \n",
       "4     Rohini Sector 24 carpet area 650 sqft status R...      1.0   6200000   \n",
       "...                                                 ...      ...       ...   \n",
       "1254                                  Chittaranjan Park      3.0  55000000   \n",
       "1255                                  Chittaranjan Park      3.0  12500000   \n",
       "1256                                  Chittaranjan Park      3.0  17500000   \n",
       "1257                          Chittaranjan Park Block A      1.0  11500000   \n",
       "1258                                  Chittaranjan Park      1.0  18500000   \n",
       "\n",
       "             Status   Transaction           Type  Per_Sqft  \n",
       "0     Ready_to_move  New_Property  Builder_Floor       NaN  \n",
       "1     Ready_to_move  New_Property      Apartment    6667.0  \n",
       "2     Ready_to_move        Resale      Apartment    6667.0  \n",
       "3     Ready_to_move        Resale  Builder_Floor    6667.0  \n",
       "4     Ready_to_move  New_Property  Builder_Floor    6667.0  \n",
       "...             ...           ...            ...       ...  \n",
       "1254  Ready_to_move  New_Property  Builder_Floor   12916.0  \n",
       "1255  Ready_to_move        Resale  Builder_Floor   12916.0  \n",
       "1256  Ready_to_move  New_Property  Builder_Floor   12916.0  \n",
       "1257  Ready_to_move        Resale  Builder_Floor   12916.0  \n",
       "1258  Ready_to_move  New_Property  Builder_Floor   12916.0  \n",
       "\n",
       "[1259 rows x 11 columns]"
      ]
     },
     "execution_count": 210,
     "metadata": {},
     "output_type": "execute_result"
    }
   ],
   "source": [
    "# Print the dataframe\n",
    "house_data"
   ]
  },
  {
   "cell_type": "code",
   "execution_count": 211,
   "id": "dd2d71be",
   "metadata": {},
   "outputs": [
    {
     "name": "stdout",
     "output_type": "stream",
     "text": [
      "<class 'pandas.core.frame.DataFrame'>\n",
      "RangeIndex: 1259 entries, 0 to 1258\n",
      "Data columns (total 11 columns):\n",
      " #   Column       Non-Null Count  Dtype  \n",
      "---  ------       --------------  -----  \n",
      " 0   Area         1259 non-null   float64\n",
      " 1   BHK          1259 non-null   int64  \n",
      " 2   Bathroom     1257 non-null   float64\n",
      " 3   Furnishing   1254 non-null   object \n",
      " 4   Locality     1259 non-null   object \n",
      " 5   Parking      1226 non-null   float64\n",
      " 6   Price        1259 non-null   int64  \n",
      " 7   Status       1259 non-null   object \n",
      " 8   Transaction  1259 non-null   object \n",
      " 9   Type         1254 non-null   object \n",
      " 10  Per_Sqft     1018 non-null   float64\n",
      "dtypes: float64(4), int64(2), object(5)\n",
      "memory usage: 108.3+ KB\n"
     ]
    }
   ],
   "source": [
    "# Get the dataframe information\n",
    "house_data.info()"
   ]
  },
  {
   "cell_type": "code",
   "execution_count": 212,
   "id": "9752707a",
   "metadata": {},
   "outputs": [
    {
     "data": {
      "text/plain": [
       "Area             0\n",
       "BHK              0\n",
       "Bathroom         2\n",
       "Furnishing       5\n",
       "Locality         0\n",
       "Parking         33\n",
       "Price            0\n",
       "Status           0\n",
       "Transaction      0\n",
       "Type             5\n",
       "Per_Sqft       241\n",
       "dtype: int64"
      ]
     },
     "execution_count": 212,
     "metadata": {},
     "output_type": "execute_result"
    }
   ],
   "source": [
    "# Check null values in the dataframe\n",
    "house_data.isna().sum()"
   ]
  },
  {
   "cell_type": "code",
   "execution_count": 213,
   "id": "b0819b49",
   "metadata": {},
   "outputs": [
    {
     "data": {
      "text/plain": [
       "np.int64(83)"
      ]
     },
     "execution_count": 213,
     "metadata": {},
     "output_type": "execute_result"
    }
   ],
   "source": [
    "# Find the duplicate rows\n",
    "house_data.duplicated().sum()"
   ]
  },
  {
   "cell_type": "code",
   "execution_count": 214,
   "id": "2bd3b244",
   "metadata": {},
   "outputs": [
    {
     "data": {
      "text/html": [
       "<div>\n",
       "<style scoped>\n",
       "    .dataframe tbody tr th:only-of-type {\n",
       "        vertical-align: middle;\n",
       "    }\n",
       "\n",
       "    .dataframe tbody tr th {\n",
       "        vertical-align: top;\n",
       "    }\n",
       "\n",
       "    .dataframe thead th {\n",
       "        text-align: right;\n",
       "    }\n",
       "</style>\n",
       "<table border=\"1\" class=\"dataframe\">\n",
       "  <thead>\n",
       "    <tr style=\"text-align: right;\">\n",
       "      <th></th>\n",
       "      <th>percent NULL data (%)</th>\n",
       "    </tr>\n",
       "  </thead>\n",
       "  <tbody>\n",
       "    <tr>\n",
       "      <th>Area</th>\n",
       "      <td>0.000000</td>\n",
       "    </tr>\n",
       "    <tr>\n",
       "      <th>BHK</th>\n",
       "      <td>0.000000</td>\n",
       "    </tr>\n",
       "    <tr>\n",
       "      <th>Bathroom</th>\n",
       "      <td>0.158856</td>\n",
       "    </tr>\n",
       "    <tr>\n",
       "      <th>Furnishing</th>\n",
       "      <td>0.397141</td>\n",
       "    </tr>\n",
       "    <tr>\n",
       "      <th>Locality</th>\n",
       "      <td>0.000000</td>\n",
       "    </tr>\n",
       "    <tr>\n",
       "      <th>Parking</th>\n",
       "      <td>2.621128</td>\n",
       "    </tr>\n",
       "    <tr>\n",
       "      <th>Price</th>\n",
       "      <td>0.000000</td>\n",
       "    </tr>\n",
       "    <tr>\n",
       "      <th>Status</th>\n",
       "      <td>0.000000</td>\n",
       "    </tr>\n",
       "    <tr>\n",
       "      <th>Transaction</th>\n",
       "      <td>0.000000</td>\n",
       "    </tr>\n",
       "    <tr>\n",
       "      <th>Type</th>\n",
       "      <td>0.397141</td>\n",
       "    </tr>\n",
       "    <tr>\n",
       "      <th>Per_Sqft</th>\n",
       "      <td>19.142176</td>\n",
       "    </tr>\n",
       "  </tbody>\n",
       "</table>\n",
       "</div>"
      ],
      "text/plain": [
       "             percent NULL data (%)\n",
       "Area                      0.000000\n",
       "BHK                       0.000000\n",
       "Bathroom                  0.158856\n",
       "Furnishing                0.397141\n",
       "Locality                  0.000000\n",
       "Parking                   2.621128\n",
       "Price                     0.000000\n",
       "Status                    0.000000\n",
       "Transaction               0.000000\n",
       "Type                      0.397141\n",
       "Per_Sqft                 19.142176"
      ]
     },
     "execution_count": 214,
     "metadata": {},
     "output_type": "execute_result"
    }
   ],
   "source": [
    "# Get the percentage of null values in each column\n",
    "data_null = house_data.isna().mean() * 100\n",
    "data_null.to_frame(name = 'percent NULL data (%)')"
   ]
  },
  {
   "cell_type": "code",
   "execution_count": 215,
   "id": "f64b88da",
   "metadata": {},
   "outputs": [
    {
     "data": {
      "text/plain": [
       "<Axes: >"
      ]
     },
     "execution_count": 215,
     "metadata": {},
     "output_type": "execute_result"
    },
    {
     "data": {
      "image/png": "[encoded data removed]",
      "text/plain": [
       "<Figure size 640x480 with 2 Axes>"
      ]
     },
     "metadata": {},
     "output_type": "display_data"
    }
   ],
   "source": [
    "# Visualize the null values in the dataframe\n",
    "sns.heatmap(house_data.isnull())"
   ]
  },
  {
   "cell_type": "code",
   "execution_count": 216,
   "id": "cb230625",
   "metadata": {},
   "outputs": [],
   "source": [
    "# Drop the Per_Sqft Column\n",
    "house_data.drop(\"Per_Sqft\", axis = 1, inplace = True)"
   ]
  },
  {
   "cell_type": "code",
   "execution_count": 217,
   "id": "9b8ca774",
   "metadata": {},
   "outputs": [
    {
     "data": {
      "text/plain": [
       "(1259, 10)"
      ]
     },
     "execution_count": 217,
     "metadata": {},
     "output_type": "execute_result"
    }
   ],
   "source": [
    "# Get the shape of the dataframe\n",
    "house_data.shape"
   ]
  },
  {
   "cell_type": "code",
   "execution_count": 218,
   "id": "ccf45203",
   "metadata": {},
   "outputs": [],
   "source": [
    "# Drop rows with any null values\n",
    "house_data.dropna(inplace = True)"
   ]
  },
  {
   "cell_type": "code",
   "execution_count": 219,
   "id": "30c1edf9",
   "metadata": {},
   "outputs": [
    {
     "data": {
      "text/plain": [
       "np.int64(103)"
      ]
     },
     "execution_count": 219,
     "metadata": {},
     "output_type": "execute_result"
    }
   ],
   "source": [
    "# Find the duplicate values\n",
    "house_data.duplicated().sum()"
   ]
  },
  {
   "cell_type": "code",
   "execution_count": 220,
   "id": "5c27ce16",
   "metadata": {},
   "outputs": [],
   "source": [
    "# Drop the duplicated values\n",
    "house_data.drop_duplicates(inplace = True)"
   ]
  },
  {
   "cell_type": "code",
   "execution_count": 221,
   "id": "325c4742",
   "metadata": {},
   "outputs": [
    {
     "data": {
      "text/html": [
       "<div>\n",
       "<style scoped>\n",
       "    .dataframe tbody tr th:only-of-type {\n",
       "        vertical-align: middle;\n",
       "    }\n",
       "\n",
       "    .dataframe tbody tr th {\n",
       "        vertical-align: top;\n",
       "    }\n",
       "\n",
       "    .dataframe thead th {\n",
       "        text-align: right;\n",
       "    }\n",
       "</style>\n",
       "<table border=\"1\" class=\"dataframe\">\n",
       "  <thead>\n",
       "    <tr style=\"text-align: right;\">\n",
       "      <th></th>\n",
       "      <th>Area</th>\n",
       "      <th>BHK</th>\n",
       "      <th>Bathroom</th>\n",
       "      <th>Furnishing</th>\n",
       "      <th>Locality</th>\n",
       "      <th>Parking</th>\n",
       "      <th>Price</th>\n",
       "      <th>Status</th>\n",
       "      <th>Transaction</th>\n",
       "      <th>Type</th>\n",
       "    </tr>\n",
       "  </thead>\n",
       "  <tbody>\n",
       "    <tr>\n",
       "      <th>0</th>\n",
       "      <td>800.0</td>\n",
       "      <td>3</td>\n",
       "      <td>2.0</td>\n",
       "      <td>Semi-Furnished</td>\n",
       "      <td>Rohini Sector 25</td>\n",
       "      <td>1.0</td>\n",
       "      <td>6500000</td>\n",
       "      <td>Ready_to_move</td>\n",
       "      <td>New_Property</td>\n",
       "      <td>Builder_Floor</td>\n",
       "    </tr>\n",
       "    <tr>\n",
       "      <th>1</th>\n",
       "      <td>750.0</td>\n",
       "      <td>2</td>\n",
       "      <td>2.0</td>\n",
       "      <td>Semi-Furnished</td>\n",
       "      <td>J R Designers Floors, Rohini Sector 24</td>\n",
       "      <td>1.0</td>\n",
       "      <td>5000000</td>\n",
       "      <td>Ready_to_move</td>\n",
       "      <td>New_Property</td>\n",
       "      <td>Apartment</td>\n",
       "    </tr>\n",
       "    <tr>\n",
       "      <th>2</th>\n",
       "      <td>950.0</td>\n",
       "      <td>2</td>\n",
       "      <td>2.0</td>\n",
       "      <td>Furnished</td>\n",
       "      <td>Citizen Apartment, Rohini Sector 13</td>\n",
       "      <td>1.0</td>\n",
       "      <td>15500000</td>\n",
       "      <td>Ready_to_move</td>\n",
       "      <td>Resale</td>\n",
       "      <td>Apartment</td>\n",
       "    </tr>\n",
       "    <tr>\n",
       "      <th>3</th>\n",
       "      <td>600.0</td>\n",
       "      <td>2</td>\n",
       "      <td>2.0</td>\n",
       "      <td>Semi-Furnished</td>\n",
       "      <td>Rohini Sector 24</td>\n",
       "      <td>1.0</td>\n",
       "      <td>4200000</td>\n",
       "      <td>Ready_to_move</td>\n",
       "      <td>Resale</td>\n",
       "      <td>Builder_Floor</td>\n",
       "    </tr>\n",
       "    <tr>\n",
       "      <th>4</th>\n",
       "      <td>650.0</td>\n",
       "      <td>2</td>\n",
       "      <td>2.0</td>\n",
       "      <td>Semi-Furnished</td>\n",
       "      <td>Rohini Sector 24 carpet area 650 sqft status R...</td>\n",
       "      <td>1.0</td>\n",
       "      <td>6200000</td>\n",
       "      <td>Ready_to_move</td>\n",
       "      <td>New_Property</td>\n",
       "      <td>Builder_Floor</td>\n",
       "    </tr>\n",
       "    <tr>\n",
       "      <th>...</th>\n",
       "      <td>...</td>\n",
       "      <td>...</td>\n",
       "      <td>...</td>\n",
       "      <td>...</td>\n",
       "      <td>...</td>\n",
       "      <td>...</td>\n",
       "      <td>...</td>\n",
       "      <td>...</td>\n",
       "      <td>...</td>\n",
       "      <td>...</td>\n",
       "    </tr>\n",
       "    <tr>\n",
       "      <th>1254</th>\n",
       "      <td>4118.0</td>\n",
       "      <td>4</td>\n",
       "      <td>5.0</td>\n",
       "      <td>Unfurnished</td>\n",
       "      <td>Chittaranjan Park</td>\n",
       "      <td>3.0</td>\n",
       "      <td>55000000</td>\n",
       "      <td>Ready_to_move</td>\n",
       "      <td>New_Property</td>\n",
       "      <td>Builder_Floor</td>\n",
       "    </tr>\n",
       "    <tr>\n",
       "      <th>1255</th>\n",
       "      <td>1050.0</td>\n",
       "      <td>3</td>\n",
       "      <td>2.0</td>\n",
       "      <td>Semi-Furnished</td>\n",
       "      <td>Chittaranjan Park</td>\n",
       "      <td>3.0</td>\n",
       "      <td>12500000</td>\n",
       "      <td>Ready_to_move</td>\n",
       "      <td>Resale</td>\n",
       "      <td>Builder_Floor</td>\n",
       "    </tr>\n",
       "    <tr>\n",
       "      <th>1256</th>\n",
       "      <td>875.0</td>\n",
       "      <td>3</td>\n",
       "      <td>3.0</td>\n",
       "      <td>Semi-Furnished</td>\n",
       "      <td>Chittaranjan Park</td>\n",
       "      <td>3.0</td>\n",
       "      <td>17500000</td>\n",
       "      <td>Ready_to_move</td>\n",
       "      <td>New_Property</td>\n",
       "      <td>Builder_Floor</td>\n",
       "    </tr>\n",
       "    <tr>\n",
       "      <th>1257</th>\n",
       "      <td>990.0</td>\n",
       "      <td>2</td>\n",
       "      <td>2.0</td>\n",
       "      <td>Unfurnished</td>\n",
       "      <td>Chittaranjan Park Block A</td>\n",
       "      <td>1.0</td>\n",
       "      <td>11500000</td>\n",
       "      <td>Ready_to_move</td>\n",
       "      <td>Resale</td>\n",
       "      <td>Builder_Floor</td>\n",
       "    </tr>\n",
       "    <tr>\n",
       "      <th>1258</th>\n",
       "      <td>11050.0</td>\n",
       "      <td>3</td>\n",
       "      <td>3.0</td>\n",
       "      <td>Unfurnished</td>\n",
       "      <td>Chittaranjan Park</td>\n",
       "      <td>1.0</td>\n",
       "      <td>18500000</td>\n",
       "      <td>Ready_to_move</td>\n",
       "      <td>New_Property</td>\n",
       "      <td>Builder_Floor</td>\n",
       "    </tr>\n",
       "  </tbody>\n",
       "</table>\n",
       "<p>1122 rows × 10 columns</p>\n",
       "</div>"
      ],
      "text/plain": [
       "         Area  BHK  Bathroom      Furnishing  \\\n",
       "0       800.0    3       2.0  Semi-Furnished   \n",
       "1       750.0    2       2.0  Semi-Furnished   \n",
       "2       950.0    2       2.0       Furnished   \n",
       "3       600.0    2       2.0  Semi-Furnished   \n",
       "4       650.0    2       2.0  Semi-Furnished   \n",
       "...       ...  ...       ...             ...   \n",
       "1254   4118.0    4       5.0     Unfurnished   \n",
       "1255   1050.0    3       2.0  Semi-Furnished   \n",
       "1256    875.0    3       3.0  Semi-Furnished   \n",
       "1257    990.0    2       2.0     Unfurnished   \n",
       "1258  11050.0    3       3.0     Unfurnished   \n",
       "\n",
       "                                               Locality  Parking     Price  \\\n",
       "0                                      Rohini Sector 25      1.0   6500000   \n",
       "1                J R Designers Floors, Rohini Sector 24      1.0   5000000   \n",
       "2                   Citizen Apartment, Rohini Sector 13      1.0  15500000   \n",
       "3                                      Rohini Sector 24      1.0   4200000   \n",
       "4     Rohini Sector 24 carpet area 650 sqft status R...      1.0   6200000   \n",
       "...                                                 ...      ...       ...   \n",
       "1254                                  Chittaranjan Park      3.0  55000000   \n",
       "1255                                  Chittaranjan Park      3.0  12500000   \n",
       "1256                                  Chittaranjan Park      3.0  17500000   \n",
       "1257                          Chittaranjan Park Block A      1.0  11500000   \n",
       "1258                                  Chittaranjan Park      1.0  18500000   \n",
       "\n",
       "             Status   Transaction           Type  \n",
       "0     Ready_to_move  New_Property  Builder_Floor  \n",
       "1     Ready_to_move  New_Property      Apartment  \n",
       "2     Ready_to_move        Resale      Apartment  \n",
       "3     Ready_to_move        Resale  Builder_Floor  \n",
       "4     Ready_to_move  New_Property  Builder_Floor  \n",
       "...             ...           ...            ...  \n",
       "1254  Ready_to_move  New_Property  Builder_Floor  \n",
       "1255  Ready_to_move        Resale  Builder_Floor  \n",
       "1256  Ready_to_move  New_Property  Builder_Floor  \n",
       "1257  Ready_to_move        Resale  Builder_Floor  \n",
       "1258  Ready_to_move  New_Property  Builder_Floor  \n",
       "\n",
       "[1122 rows x 10 columns]"
      ]
     },
     "execution_count": 221,
     "metadata": {},
     "output_type": "execute_result"
    }
   ],
   "source": [
    "# Print the dataframe\n",
    "house_data"
   ]
  },
  {
   "cell_type": "code",
   "execution_count": 222,
   "id": "61001341",
   "metadata": {},
   "outputs": [
    {
     "data": {
      "text/html": [
       "<div>\n",
       "<style scoped>\n",
       "    .dataframe tbody tr th:only-of-type {\n",
       "        vertical-align: middle;\n",
       "    }\n",
       "\n",
       "    .dataframe tbody tr th {\n",
       "        vertical-align: top;\n",
       "    }\n",
       "\n",
       "    .dataframe thead th {\n",
       "        text-align: right;\n",
       "    }\n",
       "</style>\n",
       "<table border=\"1\" class=\"dataframe\">\n",
       "  <thead>\n",
       "    <tr style=\"text-align: right;\">\n",
       "      <th></th>\n",
       "      <th>percent NULL data (%)</th>\n",
       "    </tr>\n",
       "  </thead>\n",
       "  <tbody>\n",
       "    <tr>\n",
       "      <th>Area</th>\n",
       "      <td>0.0</td>\n",
       "    </tr>\n",
       "    <tr>\n",
       "      <th>BHK</th>\n",
       "      <td>0.0</td>\n",
       "    </tr>\n",
       "    <tr>\n",
       "      <th>Bathroom</th>\n",
       "      <td>0.0</td>\n",
       "    </tr>\n",
       "    <tr>\n",
       "      <th>Furnishing</th>\n",
       "      <td>0.0</td>\n",
       "    </tr>\n",
       "    <tr>\n",
       "      <th>Locality</th>\n",
       "      <td>0.0</td>\n",
       "    </tr>\n",
       "    <tr>\n",
       "      <th>Parking</th>\n",
       "      <td>0.0</td>\n",
       "    </tr>\n",
       "    <tr>\n",
       "      <th>Price</th>\n",
       "      <td>0.0</td>\n",
       "    </tr>\n",
       "    <tr>\n",
       "      <th>Status</th>\n",
       "      <td>0.0</td>\n",
       "    </tr>\n",
       "    <tr>\n",
       "      <th>Transaction</th>\n",
       "      <td>0.0</td>\n",
       "    </tr>\n",
       "    <tr>\n",
       "      <th>Type</th>\n",
       "      <td>0.0</td>\n",
       "    </tr>\n",
       "  </tbody>\n",
       "</table>\n",
       "</div>"
      ],
      "text/plain": [
       "             percent NULL data (%)\n",
       "Area                           0.0\n",
       "BHK                            0.0\n",
       "Bathroom                       0.0\n",
       "Furnishing                     0.0\n",
       "Locality                       0.0\n",
       "Parking                        0.0\n",
       "Price                          0.0\n",
       "Status                         0.0\n",
       "Transaction                    0.0\n",
       "Type                           0.0"
      ]
     },
     "execution_count": 222,
     "metadata": {},
     "output_type": "execute_result"
    }
   ],
   "source": [
    "# Get the percentage of null values in each column\n",
    "data_null = house_data.isna().mean() * 100\n",
    "data_null.to_frame(name = 'percent NULL data (%)')"
   ]
  },
  {
   "cell_type": "code",
   "execution_count": 223,
   "id": "64f98cfa",
   "metadata": {},
   "outputs": [
    {
     "data": {
      "text/plain": [
       "<Axes: >"
      ]
     },
     "execution_count": 223,
     "metadata": {},
     "output_type": "execute_result"
    },
    {
     "data": {
      "image/png": "[encoded data removed]",
      "text/plain": [
       "<Figure size 640x480 with 2 Axes>"
      ]
     },
     "metadata": {},
     "output_type": "display_data"
    }
   ],
   "source": [
    "# Visualize the null values in the dataframe\n",
    "sns.heatmap(house_data.isnull())"
   ]
  },
  {
   "cell_type": "markdown",
   "id": "606e0900",
   "metadata": {},
   "source": [
    "<h3 style='color:purple'>Perform EDA</h3>"
   ]
  },
  {
   "cell_type": "code",
   "execution_count": 224,
   "id": "18ed6c5f",
   "metadata": {},
   "outputs": [
    {
     "name": "stdout",
     "output_type": "stream",
     "text": [
      "<class 'pandas.core.frame.DataFrame'>\n",
      "Index: 1122 entries, 0 to 1258\n",
      "Data columns (total 10 columns):\n",
      " #   Column       Non-Null Count  Dtype  \n",
      "---  ------       --------------  -----  \n",
      " 0   Area         1122 non-null   float64\n",
      " 1   BHK          1122 non-null   int64  \n",
      " 2   Bathroom     1122 non-null   int64  \n",
      " 3   Furnishing   1122 non-null   object \n",
      " 4   Locality     1122 non-null   object \n",
      " 5   Parking      1122 non-null   int64  \n",
      " 6   Price        1122 non-null   int64  \n",
      " 7   Status       1122 non-null   object \n",
      " 8   Transaction  1122 non-null   object \n",
      " 9   Type         1122 non-null   object \n",
      "dtypes: float64(1), int64(4), object(5)\n",
      "memory usage: 96.4+ KB\n"
     ]
    }
   ],
   "source": [
    "# Convert the parking, bathroom into numeric values\n",
    "house_data[['Parking','Bathroom']]=house_data[['Parking','Bathroom']].astype('int64')\n",
    "house_data.info()"
   ]
  },
  {
   "cell_type": "code",
   "execution_count": 225,
   "id": "a96b4c53",
   "metadata": {},
   "outputs": [
    {
     "data": {
      "text/html": [
       "<div>\n",
       "<style scoped>\n",
       "    .dataframe tbody tr th:only-of-type {\n",
       "        vertical-align: middle;\n",
       "    }\n",
       "\n",
       "    .dataframe tbody tr th {\n",
       "        vertical-align: top;\n",
       "    }\n",
       "\n",
       "    .dataframe thead th {\n",
       "        text-align: right;\n",
       "    }\n",
       "</style>\n",
       "<table border=\"1\" class=\"dataframe\">\n",
       "  <thead>\n",
       "    <tr style=\"text-align: right;\">\n",
       "      <th></th>\n",
       "      <th>Area</th>\n",
       "      <th>BHK</th>\n",
       "      <th>Bathroom</th>\n",
       "      <th>Furnishing</th>\n",
       "      <th>Locality</th>\n",
       "      <th>Parking</th>\n",
       "      <th>Price</th>\n",
       "      <th>Status</th>\n",
       "      <th>Transaction</th>\n",
       "      <th>Type</th>\n",
       "    </tr>\n",
       "  </thead>\n",
       "  <tbody>\n",
       "    <tr>\n",
       "      <th>0</th>\n",
       "      <td>800.0</td>\n",
       "      <td>3</td>\n",
       "      <td>2</td>\n",
       "      <td>Semi-Furnished</td>\n",
       "      <td>Rohini Sector 25</td>\n",
       "      <td>1</td>\n",
       "      <td>6500000</td>\n",
       "      <td>Ready_to_move</td>\n",
       "      <td>New_Property</td>\n",
       "      <td>Builder_Floor</td>\n",
       "    </tr>\n",
       "    <tr>\n",
       "      <th>1</th>\n",
       "      <td>750.0</td>\n",
       "      <td>2</td>\n",
       "      <td>2</td>\n",
       "      <td>Semi-Furnished</td>\n",
       "      <td>J R Designers Floors, Rohini Sector 24</td>\n",
       "      <td>1</td>\n",
       "      <td>5000000</td>\n",
       "      <td>Ready_to_move</td>\n",
       "      <td>New_Property</td>\n",
       "      <td>Apartment</td>\n",
       "    </tr>\n",
       "    <tr>\n",
       "      <th>2</th>\n",
       "      <td>950.0</td>\n",
       "      <td>2</td>\n",
       "      <td>2</td>\n",
       "      <td>Furnished</td>\n",
       "      <td>Citizen Apartment, Rohini Sector 13</td>\n",
       "      <td>1</td>\n",
       "      <td>15500000</td>\n",
       "      <td>Ready_to_move</td>\n",
       "      <td>Resale</td>\n",
       "      <td>Apartment</td>\n",
       "    </tr>\n",
       "    <tr>\n",
       "      <th>3</th>\n",
       "      <td>600.0</td>\n",
       "      <td>2</td>\n",
       "      <td>2</td>\n",
       "      <td>Semi-Furnished</td>\n",
       "      <td>Rohini Sector 24</td>\n",
       "      <td>1</td>\n",
       "      <td>4200000</td>\n",
       "      <td>Ready_to_move</td>\n",
       "      <td>Resale</td>\n",
       "      <td>Builder_Floor</td>\n",
       "    </tr>\n",
       "    <tr>\n",
       "      <th>4</th>\n",
       "      <td>650.0</td>\n",
       "      <td>2</td>\n",
       "      <td>2</td>\n",
       "      <td>Semi-Furnished</td>\n",
       "      <td>Rohini Sector 24 carpet area 650 sqft status R...</td>\n",
       "      <td>1</td>\n",
       "      <td>6200000</td>\n",
       "      <td>Ready_to_move</td>\n",
       "      <td>New_Property</td>\n",
       "      <td>Builder_Floor</td>\n",
       "    </tr>\n",
       "  </tbody>\n",
       "</table>\n",
       "</div>"
      ],
      "text/plain": [
       "    Area  BHK  Bathroom      Furnishing  \\\n",
       "0  800.0    3         2  Semi-Furnished   \n",
       "1  750.0    2         2  Semi-Furnished   \n",
       "2  950.0    2         2       Furnished   \n",
       "3  600.0    2         2  Semi-Furnished   \n",
       "4  650.0    2         2  Semi-Furnished   \n",
       "\n",
       "                                            Locality  Parking     Price  \\\n",
       "0                                   Rohini Sector 25        1   6500000   \n",
       "1             J R Designers Floors, Rohini Sector 24        1   5000000   \n",
       "2                Citizen Apartment, Rohini Sector 13        1  15500000   \n",
       "3                                   Rohini Sector 24        1   4200000   \n",
       "4  Rohini Sector 24 carpet area 650 sqft status R...        1   6200000   \n",
       "\n",
       "          Status   Transaction           Type  \n",
       "0  Ready_to_move  New_Property  Builder_Floor  \n",
       "1  Ready_to_move  New_Property      Apartment  \n",
       "2  Ready_to_move        Resale      Apartment  \n",
       "3  Ready_to_move        Resale  Builder_Floor  \n",
       "4  Ready_to_move  New_Property  Builder_Floor  "
      ]
     },
     "execution_count": 225,
     "metadata": {},
     "output_type": "execute_result"
    }
   ],
   "source": [
    "# print the first few rows of the dataframe\n",
    "house_data.head()"
   ]
  },
  {
   "cell_type": "code",
   "execution_count": 226,
   "id": "8600fe39",
   "metadata": {},
   "outputs": [
    {
     "data": {
      "text/html": [
       "<div>\n",
       "<style scoped>\n",
       "    .dataframe tbody tr th:only-of-type {\n",
       "        vertical-align: middle;\n",
       "    }\n",
       "\n",
       "    .dataframe tbody tr th {\n",
       "        vertical-align: top;\n",
       "    }\n",
       "\n",
       "    .dataframe thead th {\n",
       "        text-align: right;\n",
       "    }\n",
       "</style>\n",
       "<table border=\"1\" class=\"dataframe\">\n",
       "  <thead>\n",
       "    <tr style=\"text-align: right;\">\n",
       "      <th></th>\n",
       "      <th>Area</th>\n",
       "      <th>BHK</th>\n",
       "      <th>Bathroom</th>\n",
       "      <th>Parking</th>\n",
       "      <th>Price</th>\n",
       "    </tr>\n",
       "  </thead>\n",
       "  <tbody>\n",
       "    <tr>\n",
       "      <th>count</th>\n",
       "      <td>1122.00</td>\n",
       "      <td>1122.00</td>\n",
       "      <td>1122.00</td>\n",
       "      <td>1122.00</td>\n",
       "      <td>1.122000e+03</td>\n",
       "    </tr>\n",
       "    <tr>\n",
       "      <th>mean</th>\n",
       "      <td>1448.37</td>\n",
       "      <td>2.79</td>\n",
       "      <td>2.56</td>\n",
       "      <td>2.00</td>\n",
       "      <td>2.101744e+07</td>\n",
       "    </tr>\n",
       "    <tr>\n",
       "      <th>std</th>\n",
       "      <td>1503.08</td>\n",
       "      <td>0.96</td>\n",
       "      <td>1.05</td>\n",
       "      <td>6.56</td>\n",
       "      <td>2.475097e+07</td>\n",
       "    </tr>\n",
       "    <tr>\n",
       "      <th>min</th>\n",
       "      <td>28.00</td>\n",
       "      <td>1.00</td>\n",
       "      <td>1.00</td>\n",
       "      <td>1.00</td>\n",
       "      <td>1.000000e+06</td>\n",
       "    </tr>\n",
       "    <tr>\n",
       "      <th>25%</th>\n",
       "      <td>800.00</td>\n",
       "      <td>2.00</td>\n",
       "      <td>2.00</td>\n",
       "      <td>1.00</td>\n",
       "      <td>5.612500e+06</td>\n",
       "    </tr>\n",
       "    <tr>\n",
       "      <th>50%</th>\n",
       "      <td>1152.50</td>\n",
       "      <td>3.00</td>\n",
       "      <td>2.00</td>\n",
       "      <td>1.00</td>\n",
       "      <td>1.400000e+07</td>\n",
       "    </tr>\n",
       "    <tr>\n",
       "      <th>75%</th>\n",
       "      <td>1700.00</td>\n",
       "      <td>3.00</td>\n",
       "      <td>3.00</td>\n",
       "      <td>2.00</td>\n",
       "      <td>2.580000e+07</td>\n",
       "    </tr>\n",
       "    <tr>\n",
       "      <th>max</th>\n",
       "      <td>24300.00</td>\n",
       "      <td>10.00</td>\n",
       "      <td>7.00</td>\n",
       "      <td>114.00</td>\n",
       "      <td>2.400000e+08</td>\n",
       "    </tr>\n",
       "  </tbody>\n",
       "</table>\n",
       "</div>"
      ],
      "text/plain": [
       "           Area      BHK  Bathroom  Parking         Price\n",
       "count   1122.00  1122.00   1122.00  1122.00  1.122000e+03\n",
       "mean    1448.37     2.79      2.56     2.00  2.101744e+07\n",
       "std     1503.08     0.96      1.05     6.56  2.475097e+07\n",
       "min       28.00     1.00      1.00     1.00  1.000000e+06\n",
       "25%      800.00     2.00      2.00     1.00  5.612500e+06\n",
       "50%     1152.50     3.00      2.00     1.00  1.400000e+07\n",
       "75%     1700.00     3.00      3.00     2.00  2.580000e+07\n",
       "max    24300.00    10.00      7.00   114.00  2.400000e+08"
      ]
     },
     "execution_count": 226,
     "metadata": {},
     "output_type": "execute_result"
    }
   ],
   "source": [
    "# Get the descriptive statistics of the dataframe\n",
    "round(house_data.describe(), 2)"
   ]
  },
  {
   "cell_type": "code",
   "execution_count": 227,
   "id": "129b740d",
   "metadata": {},
   "outputs": [],
   "source": [
    "# Calculate the price per square meter\n",
    "house_data['Price(persqft)'] = round(house_data['Price'] / house_data['Area'],1)"
   ]
  },
  {
   "cell_type": "code",
   "execution_count": 228,
   "id": "58d851eb",
   "metadata": {},
   "outputs": [
    {
     "data": {
      "text/html": [
       "<div>\n",
       "<style scoped>\n",
       "    .dataframe tbody tr th:only-of-type {\n",
       "        vertical-align: middle;\n",
       "    }\n",
       "\n",
       "    .dataframe tbody tr th {\n",
       "        vertical-align: top;\n",
       "    }\n",
       "\n",
       "    .dataframe thead th {\n",
       "        text-align: right;\n",
       "    }\n",
       "</style>\n",
       "<table border=\"1\" class=\"dataframe\">\n",
       "  <thead>\n",
       "    <tr style=\"text-align: right;\">\n",
       "      <th></th>\n",
       "      <th>Area</th>\n",
       "      <th>BHK</th>\n",
       "      <th>Bathroom</th>\n",
       "      <th>Furnishing</th>\n",
       "      <th>Locality</th>\n",
       "      <th>Parking</th>\n",
       "      <th>Price</th>\n",
       "      <th>Status</th>\n",
       "      <th>Transaction</th>\n",
       "      <th>Type</th>\n",
       "      <th>Price(persqft)</th>\n",
       "    </tr>\n",
       "  </thead>\n",
       "  <tbody>\n",
       "    <tr>\n",
       "      <th>0</th>\n",
       "      <td>800.0</td>\n",
       "      <td>3</td>\n",
       "      <td>2</td>\n",
       "      <td>Semi-Furnished</td>\n",
       "      <td>Rohini Sector 25</td>\n",
       "      <td>1</td>\n",
       "      <td>6500000</td>\n",
       "      <td>Ready_to_move</td>\n",
       "      <td>New_Property</td>\n",
       "      <td>Builder_Floor</td>\n",
       "      <td>8125.0</td>\n",
       "    </tr>\n",
       "    <tr>\n",
       "      <th>1</th>\n",
       "      <td>750.0</td>\n",
       "      <td>2</td>\n",
       "      <td>2</td>\n",
       "      <td>Semi-Furnished</td>\n",
       "      <td>J R Designers Floors, Rohini Sector 24</td>\n",
       "      <td>1</td>\n",
       "      <td>5000000</td>\n",
       "      <td>Ready_to_move</td>\n",
       "      <td>New_Property</td>\n",
       "      <td>Apartment</td>\n",
       "      <td>6666.7</td>\n",
       "    </tr>\n",
       "    <tr>\n",
       "      <th>2</th>\n",
       "      <td>950.0</td>\n",
       "      <td>2</td>\n",
       "      <td>2</td>\n",
       "      <td>Furnished</td>\n",
       "      <td>Citizen Apartment, Rohini Sector 13</td>\n",
       "      <td>1</td>\n",
       "      <td>15500000</td>\n",
       "      <td>Ready_to_move</td>\n",
       "      <td>Resale</td>\n",
       "      <td>Apartment</td>\n",
       "      <td>16315.8</td>\n",
       "    </tr>\n",
       "    <tr>\n",
       "      <th>3</th>\n",
       "      <td>600.0</td>\n",
       "      <td>2</td>\n",
       "      <td>2</td>\n",
       "      <td>Semi-Furnished</td>\n",
       "      <td>Rohini Sector 24</td>\n",
       "      <td>1</td>\n",
       "      <td>4200000</td>\n",
       "      <td>Ready_to_move</td>\n",
       "      <td>Resale</td>\n",
       "      <td>Builder_Floor</td>\n",
       "      <td>7000.0</td>\n",
       "    </tr>\n",
       "    <tr>\n",
       "      <th>4</th>\n",
       "      <td>650.0</td>\n",
       "      <td>2</td>\n",
       "      <td>2</td>\n",
       "      <td>Semi-Furnished</td>\n",
       "      <td>Rohini Sector 24 carpet area 650 sqft status R...</td>\n",
       "      <td>1</td>\n",
       "      <td>6200000</td>\n",
       "      <td>Ready_to_move</td>\n",
       "      <td>New_Property</td>\n",
       "      <td>Builder_Floor</td>\n",
       "      <td>9538.5</td>\n",
       "    </tr>\n",
       "  </tbody>\n",
       "</table>\n",
       "</div>"
      ],
      "text/plain": [
       "    Area  BHK  Bathroom      Furnishing  \\\n",
       "0  800.0    3         2  Semi-Furnished   \n",
       "1  750.0    2         2  Semi-Furnished   \n",
       "2  950.0    2         2       Furnished   \n",
       "3  600.0    2         2  Semi-Furnished   \n",
       "4  650.0    2         2  Semi-Furnished   \n",
       "\n",
       "                                            Locality  Parking     Price  \\\n",
       "0                                   Rohini Sector 25        1   6500000   \n",
       "1             J R Designers Floors, Rohini Sector 24        1   5000000   \n",
       "2                Citizen Apartment, Rohini Sector 13        1  15500000   \n",
       "3                                   Rohini Sector 24        1   4200000   \n",
       "4  Rohini Sector 24 carpet area 650 sqft status R...        1   6200000   \n",
       "\n",
       "          Status   Transaction           Type  Price(persqft)  \n",
       "0  Ready_to_move  New_Property  Builder_Floor          8125.0  \n",
       "1  Ready_to_move  New_Property      Apartment          6666.7  \n",
       "2  Ready_to_move        Resale      Apartment         16315.8  \n",
       "3  Ready_to_move        Resale  Builder_Floor          7000.0  \n",
       "4  Ready_to_move  New_Property  Builder_Floor          9538.5  "
      ]
     },
     "execution_count": 228,
     "metadata": {},
     "output_type": "execute_result"
    }
   ],
   "source": [
    "# Print the first few rows of the dataframe\n",
    "house_data.head()"
   ]
  },
  {
   "cell_type": "code",
   "execution_count": 229,
   "id": "8235ceba",
   "metadata": {},
   "outputs": [
    {
     "data": {
      "text/plain": [
       "Area              312\n",
       "BHK                 8\n",
       "Bathroom            7\n",
       "Furnishing          3\n",
       "Locality          353\n",
       "Parking             9\n",
       "Price             279\n",
       "Status              2\n",
       "Transaction         2\n",
       "Type                2\n",
       "Price(persqft)    782\n",
       "dtype: int64"
      ]
     },
     "execution_count": 229,
     "metadata": {},
     "output_type": "execute_result"
    }
   ],
   "source": [
    "# Get the unique values in each column\n",
    "house_data.nunique()"
   ]
  },
  {
   "cell_type": "code",
   "execution_count": 230,
   "id": "325f9800",
   "metadata": {},
   "outputs": [
    {
     "data": {
      "text/plain": [
       "Furnishing\n",
       "Semi-Furnished    640\n",
       "Unfurnished       314\n",
       "Furnished         168\n",
       "Name: count, dtype: int64"
      ]
     },
     "execution_count": 230,
     "metadata": {},
     "output_type": "execute_result"
    }
   ],
   "source": [
    "# Get the unique values in the Furnishing column\n",
    "house_data.Furnishing.value_counts()"
   ]
  },
  {
   "cell_type": "code",
   "execution_count": 231,
   "id": "7ff6975f",
   "metadata": {},
   "outputs": [
    {
     "data": {
      "text/plain": [
       "Status\n",
       "Ready_to_move    1066\n",
       "Almost_ready       56\n",
       "Name: count, dtype: int64"
      ]
     },
     "execution_count": 231,
     "metadata": {},
     "output_type": "execute_result"
    }
   ],
   "source": [
    "# Get the unique values in the Status column\n",
    "house_data.Status.value_counts()"
   ]
  },
  {
   "cell_type": "code",
   "execution_count": 232,
   "id": "d614f772",
   "metadata": {},
   "outputs": [
    {
     "data": {
      "text/plain": [
       "Transaction\n",
       "Resale          707\n",
       "New_Property    415\n",
       "Name: count, dtype: int64"
      ]
     },
     "execution_count": 232,
     "metadata": {},
     "output_type": "execute_result"
    }
   ],
   "source": [
    "# Get the unique values in the Transaction column\n",
    "house_data.Transaction.value_counts()"
   ]
  },
  {
   "cell_type": "code",
   "execution_count": 233,
   "id": "bcd3a78f",
   "metadata": {},
   "outputs": [
    {
     "data": {
      "text/plain": [
       "Type\n",
       "Builder_Floor    617\n",
       "Apartment        505\n",
       "Name: count, dtype: int64"
      ]
     },
     "execution_count": 233,
     "metadata": {},
     "output_type": "execute_result"
    }
   ],
   "source": [
    "# Get the unique values in the Type column\n",
    "house_data.Type.value_counts()"
   ]
  },
  {
   "cell_type": "code",
   "execution_count": 234,
   "id": "84b5229d",
   "metadata": {},
   "outputs": [
    {
     "data": {
      "text/plain": [
       "np.int64(29)"
      ]
     },
     "execution_count": 234,
     "metadata": {},
     "output_type": "execute_result"
    }
   ],
   "source": [
    "# Get the most common locality\n",
    "house_data.Locality.value_counts()[0]"
   ]
  },
  {
   "cell_type": "code",
   "execution_count": 235,
   "id": "02fb135c",
   "metadata": {},
   "outputs": [
    {
     "data": {
      "text/plain": [
       "Bathroom\n",
       "2    488\n",
       "3    313\n",
       "1    134\n",
       "4    124\n",
       "5     55\n",
       "6      5\n",
       "7      3\n",
       "Name: count, dtype: int64"
      ]
     },
     "execution_count": 235,
     "metadata": {},
     "output_type": "execute_result"
    }
   ],
   "source": [
    "# Get the unique values in the Bathroom column\n",
    "house_data.Bathroom.value_counts()"
   ]
  },
  {
   "cell_type": "code",
   "execution_count": 236,
   "id": "e23dea21",
   "metadata": {},
   "outputs": [
    {
     "data": {
      "text/plain": [
       "BHK\n",
       "3     480\n",
       "2     327\n",
       "4     197\n",
       "1      90\n",
       "5      20\n",
       "6       6\n",
       "7       1\n",
       "10      1\n",
       "Name: count, dtype: int64"
      ]
     },
     "execution_count": 236,
     "metadata": {},
     "output_type": "execute_result"
    }
   ],
   "source": [
    "# Get the unique values in the BHK column\n",
    "house_data.BHK.value_counts()"
   ]
  },
  {
   "cell_type": "code",
   "execution_count": 237,
   "id": "8fd3f84c",
   "metadata": {},
   "outputs": [
    {
     "data": {
      "text/plain": [
       "Parking\n",
       "1      718\n",
       "2      317\n",
       "3       54\n",
       "4       14\n",
       "5        7\n",
       "39       7\n",
       "114      3\n",
       "9        1\n",
       "10       1\n",
       "Name: count, dtype: int64"
      ]
     },
     "execution_count": 237,
     "metadata": {},
     "output_type": "execute_result"
    }
   ],
   "source": [
    "# Get the unique values in the Parking column\n",
    "house_data.Parking.value_counts()"
   ]
  },
  {
   "cell_type": "code",
   "execution_count": 238,
   "id": "57a125a3",
   "metadata": {},
   "outputs": [
    {
     "data": {
      "text/html": [
       "<div>\n",
       "<style scoped>\n",
       "    .dataframe tbody tr th:only-of-type {\n",
       "        vertical-align: middle;\n",
       "    }\n",
       "\n",
       "    .dataframe tbody tr th {\n",
       "        vertical-align: top;\n",
       "    }\n",
       "\n",
       "    .dataframe thead th {\n",
       "        text-align: right;\n",
       "    }\n",
       "</style>\n",
       "<table border=\"1\" class=\"dataframe\">\n",
       "  <thead>\n",
       "    <tr style=\"text-align: right;\">\n",
       "      <th></th>\n",
       "      <th></th>\n",
       "      <th>Price</th>\n",
       "    </tr>\n",
       "    <tr>\n",
       "      <th>Furnishing</th>\n",
       "      <th>Bathroom</th>\n",
       "      <th></th>\n",
       "    </tr>\n",
       "  </thead>\n",
       "  <tbody>\n",
       "    <tr>\n",
       "      <th rowspan=\"7\" valign=\"top\">Furnished</th>\n",
       "      <th>1</th>\n",
       "      <td>4.547500e+06</td>\n",
       "    </tr>\n",
       "    <tr>\n",
       "      <th>2</th>\n",
       "      <td>1.243570e+07</td>\n",
       "    </tr>\n",
       "    <tr>\n",
       "      <th>3</th>\n",
       "      <td>2.164318e+07</td>\n",
       "    </tr>\n",
       "    <tr>\n",
       "      <th>4</th>\n",
       "      <td>3.700000e+07</td>\n",
       "    </tr>\n",
       "    <tr>\n",
       "      <th>5</th>\n",
       "      <td>4.200000e+07</td>\n",
       "    </tr>\n",
       "    <tr>\n",
       "      <th>6</th>\n",
       "      <td>2.890000e+07</td>\n",
       "    </tr>\n",
       "    <tr>\n",
       "      <th>7</th>\n",
       "      <td>1.600000e+08</td>\n",
       "    </tr>\n",
       "    <tr>\n",
       "      <th rowspan=\"7\" valign=\"top\">Semi-Furnished</th>\n",
       "      <th>1</th>\n",
       "      <td>3.477273e+06</td>\n",
       "    </tr>\n",
       "    <tr>\n",
       "      <th>2</th>\n",
       "      <td>9.635956e+06</td>\n",
       "    </tr>\n",
       "    <tr>\n",
       "      <th>3</th>\n",
       "      <td>2.379312e+07</td>\n",
       "    </tr>\n",
       "    <tr>\n",
       "      <th>4</th>\n",
       "      <td>4.852561e+07</td>\n",
       "    </tr>\n",
       "    <tr>\n",
       "      <th>5</th>\n",
       "      <td>7.608421e+07</td>\n",
       "    </tr>\n",
       "    <tr>\n",
       "      <th>6</th>\n",
       "      <td>8.433333e+07</td>\n",
       "    </tr>\n",
       "    <tr>\n",
       "      <th>7</th>\n",
       "      <td>1.600000e+08</td>\n",
       "    </tr>\n",
       "    <tr>\n",
       "      <th rowspan=\"7\" valign=\"top\">Unfurnished</th>\n",
       "      <th>1</th>\n",
       "      <td>2.828644e+06</td>\n",
       "    </tr>\n",
       "    <tr>\n",
       "      <th>2</th>\n",
       "      <td>9.788000e+06</td>\n",
       "    </tr>\n",
       "    <tr>\n",
       "      <th>3</th>\n",
       "      <td>2.182000e+07</td>\n",
       "    </tr>\n",
       "    <tr>\n",
       "      <th>4</th>\n",
       "      <td>5.593300e+07</td>\n",
       "    </tr>\n",
       "    <tr>\n",
       "      <th>5</th>\n",
       "      <td>7.453077e+07</td>\n",
       "    </tr>\n",
       "    <tr>\n",
       "      <th>6</th>\n",
       "      <td>1.700000e+08</td>\n",
       "    </tr>\n",
       "    <tr>\n",
       "      <th>7</th>\n",
       "      <td>7.370000e+07</td>\n",
       "    </tr>\n",
       "  </tbody>\n",
       "</table>\n",
       "</div>"
      ],
      "text/plain": [
       "                                Price\n",
       "Furnishing     Bathroom              \n",
       "Furnished      1         4.547500e+06\n",
       "               2         1.243570e+07\n",
       "               3         2.164318e+07\n",
       "               4         3.700000e+07\n",
       "               5         4.200000e+07\n",
       "               6         2.890000e+07\n",
       "               7         1.600000e+08\n",
       "Semi-Furnished 1         3.477273e+06\n",
       "               2         9.635956e+06\n",
       "               3         2.379312e+07\n",
       "               4         4.852561e+07\n",
       "               5         7.608421e+07\n",
       "               6         8.433333e+07\n",
       "               7         1.600000e+08\n",
       "Unfurnished    1         2.828644e+06\n",
       "               2         9.788000e+06\n",
       "               3         2.182000e+07\n",
       "               4         5.593300e+07\n",
       "               5         7.453077e+07\n",
       "               6         1.700000e+08\n",
       "               7         7.370000e+07"
      ]
     },
     "execution_count": 238,
     "metadata": {},
     "output_type": "execute_result"
    }
   ],
   "source": [
    "# Group by Furnishing and Bathroom, and calculate the mean price\n",
    "house_data.groupby(['Furnishing', 'Bathroom']).agg({\n",
    "    'Price' : 'mean'\n",
    "})"
   ]
  },
  {
   "cell_type": "code",
   "execution_count": 239,
   "id": "047cfc48",
   "metadata": {},
   "outputs": [
    {
     "data": {
      "text/html": [
       "<div>\n",
       "<style scoped>\n",
       "    .dataframe tbody tr th:only-of-type {\n",
       "        vertical-align: middle;\n",
       "    }\n",
       "\n",
       "    .dataframe tbody tr th {\n",
       "        vertical-align: top;\n",
       "    }\n",
       "\n",
       "    .dataframe thead th {\n",
       "        text-align: right;\n",
       "    }\n",
       "</style>\n",
       "<table border=\"1\" class=\"dataframe\">\n",
       "  <thead>\n",
       "    <tr style=\"text-align: right;\">\n",
       "      <th></th>\n",
       "      <th>Area</th>\n",
       "      <th>BHK</th>\n",
       "      <th>Bathroom</th>\n",
       "      <th>Furnishing</th>\n",
       "      <th>Locality</th>\n",
       "      <th>Parking</th>\n",
       "      <th>Price</th>\n",
       "      <th>Status</th>\n",
       "      <th>Transaction</th>\n",
       "      <th>Type</th>\n",
       "      <th>Price(persqft)</th>\n",
       "    </tr>\n",
       "  </thead>\n",
       "  <tbody>\n",
       "    <tr>\n",
       "      <th>0</th>\n",
       "      <td>800.0</td>\n",
       "      <td>3</td>\n",
       "      <td>2</td>\n",
       "      <td>Semi-Furnished</td>\n",
       "      <td>Rohini Sector 25</td>\n",
       "      <td>1</td>\n",
       "      <td>6500000</td>\n",
       "      <td>Ready_to_move</td>\n",
       "      <td>New_Property</td>\n",
       "      <td>Builder_Floor</td>\n",
       "      <td>8125.0</td>\n",
       "    </tr>\n",
       "    <tr>\n",
       "      <th>1</th>\n",
       "      <td>750.0</td>\n",
       "      <td>2</td>\n",
       "      <td>2</td>\n",
       "      <td>Semi-Furnished</td>\n",
       "      <td>J R Designers Floors, Rohini Sector 24</td>\n",
       "      <td>1</td>\n",
       "      <td>5000000</td>\n",
       "      <td>Ready_to_move</td>\n",
       "      <td>New_Property</td>\n",
       "      <td>Apartment</td>\n",
       "      <td>6666.7</td>\n",
       "    </tr>\n",
       "    <tr>\n",
       "      <th>2</th>\n",
       "      <td>950.0</td>\n",
       "      <td>2</td>\n",
       "      <td>2</td>\n",
       "      <td>Furnished</td>\n",
       "      <td>Citizen Apartment, Rohini Sector 13</td>\n",
       "      <td>1</td>\n",
       "      <td>15500000</td>\n",
       "      <td>Ready_to_move</td>\n",
       "      <td>Resale</td>\n",
       "      <td>Apartment</td>\n",
       "      <td>16315.8</td>\n",
       "    </tr>\n",
       "    <tr>\n",
       "      <th>3</th>\n",
       "      <td>600.0</td>\n",
       "      <td>2</td>\n",
       "      <td>2</td>\n",
       "      <td>Semi-Furnished</td>\n",
       "      <td>Rohini Sector 24</td>\n",
       "      <td>1</td>\n",
       "      <td>4200000</td>\n",
       "      <td>Ready_to_move</td>\n",
       "      <td>Resale</td>\n",
       "      <td>Builder_Floor</td>\n",
       "      <td>7000.0</td>\n",
       "    </tr>\n",
       "    <tr>\n",
       "      <th>4</th>\n",
       "      <td>650.0</td>\n",
       "      <td>2</td>\n",
       "      <td>2</td>\n",
       "      <td>Semi-Furnished</td>\n",
       "      <td>Rohini Sector 24 carpet area 650 sqft status R...</td>\n",
       "      <td>1</td>\n",
       "      <td>6200000</td>\n",
       "      <td>Ready_to_move</td>\n",
       "      <td>New_Property</td>\n",
       "      <td>Builder_Floor</td>\n",
       "      <td>9538.5</td>\n",
       "    </tr>\n",
       "  </tbody>\n",
       "</table>\n",
       "</div>"
      ],
      "text/plain": [
       "    Area  BHK  Bathroom      Furnishing  \\\n",
       "0  800.0    3         2  Semi-Furnished   \n",
       "1  750.0    2         2  Semi-Furnished   \n",
       "2  950.0    2         2       Furnished   \n",
       "3  600.0    2         2  Semi-Furnished   \n",
       "4  650.0    2         2  Semi-Furnished   \n",
       "\n",
       "                                            Locality  Parking     Price  \\\n",
       "0                                   Rohini Sector 25        1   6500000   \n",
       "1             J R Designers Floors, Rohini Sector 24        1   5000000   \n",
       "2                Citizen Apartment, Rohini Sector 13        1  15500000   \n",
       "3                                   Rohini Sector 24        1   4200000   \n",
       "4  Rohini Sector 24 carpet area 650 sqft status R...        1   6200000   \n",
       "\n",
       "          Status   Transaction           Type  Price(persqft)  \n",
       "0  Ready_to_move  New_Property  Builder_Floor          8125.0  \n",
       "1  Ready_to_move  New_Property      Apartment          6666.7  \n",
       "2  Ready_to_move        Resale      Apartment         16315.8  \n",
       "3  Ready_to_move        Resale  Builder_Floor          7000.0  \n",
       "4  Ready_to_move  New_Property  Builder_Floor          9538.5  "
      ]
     },
     "execution_count": 239,
     "metadata": {},
     "output_type": "execute_result"
    }
   ],
   "source": [
    "# Print the first few rows of the dataframe\n",
    "house_data.head()"
   ]
  },
  {
   "cell_type": "code",
   "execution_count": 240,
   "id": "ca28206a",
   "metadata": {},
   "outputs": [
    {
     "data": {
      "text/plain": [
       "(1122, 11)"
      ]
     },
     "execution_count": 240,
     "metadata": {},
     "output_type": "execute_result"
    }
   ],
   "source": [
    "# Display the shape of the dataframe\n",
    "house_data.shape"
   ]
  },
  {
   "cell_type": "code",
   "execution_count": 241,
   "id": "9cd76c4b",
   "metadata": {},
   "outputs": [
    {
     "data": {
      "text/plain": [
       "'89.1%'"
      ]
     },
     "execution_count": 241,
     "metadata": {},
     "output_type": "execute_result"
    }
   ],
   "source": [
    "f\"{round(1122 / 1259 * 100, 1)}%\""
   ]
  },
  {
   "cell_type": "code",
   "execution_count": 242,
   "id": "eb26f481",
   "metadata": {},
   "outputs": [
    {
     "data": {
      "text/html": [
       "<div>\n",
       "<style scoped>\n",
       "    .dataframe tbody tr th:only-of-type {\n",
       "        vertical-align: middle;\n",
       "    }\n",
       "\n",
       "    .dataframe tbody tr th {\n",
       "        vertical-align: top;\n",
       "    }\n",
       "\n",
       "    .dataframe thead th {\n",
       "        text-align: right;\n",
       "    }\n",
       "</style>\n",
       "<table border=\"1\" class=\"dataframe\">\n",
       "  <thead>\n",
       "    <tr style=\"text-align: right;\">\n",
       "      <th></th>\n",
       "      <th>Area</th>\n",
       "      <th>BHK</th>\n",
       "      <th>Bathroom</th>\n",
       "      <th>Furnishing</th>\n",
       "      <th>Locality</th>\n",
       "      <th>Parking</th>\n",
       "      <th>Price</th>\n",
       "      <th>Status</th>\n",
       "      <th>Transaction</th>\n",
       "      <th>Type</th>\n",
       "      <th>Price(persqft)</th>\n",
       "    </tr>\n",
       "  </thead>\n",
       "  <tbody>\n",
       "    <tr>\n",
       "      <th>0</th>\n",
       "      <td>800.0</td>\n",
       "      <td>3</td>\n",
       "      <td>2</td>\n",
       "      <td>Semi-Furnished</td>\n",
       "      <td>Rohini Sector 25</td>\n",
       "      <td>1</td>\n",
       "      <td>6500000</td>\n",
       "      <td>Ready_to_move</td>\n",
       "      <td>New_Property</td>\n",
       "      <td>Builder_Floor</td>\n",
       "      <td>8125.0</td>\n",
       "    </tr>\n",
       "    <tr>\n",
       "      <th>1</th>\n",
       "      <td>750.0</td>\n",
       "      <td>2</td>\n",
       "      <td>2</td>\n",
       "      <td>Semi-Furnished</td>\n",
       "      <td>J R Designers Floors, Rohini Sector 24</td>\n",
       "      <td>1</td>\n",
       "      <td>5000000</td>\n",
       "      <td>Ready_to_move</td>\n",
       "      <td>New_Property</td>\n",
       "      <td>Apartment</td>\n",
       "      <td>6666.7</td>\n",
       "    </tr>\n",
       "    <tr>\n",
       "      <th>2</th>\n",
       "      <td>950.0</td>\n",
       "      <td>2</td>\n",
       "      <td>2</td>\n",
       "      <td>Furnished</td>\n",
       "      <td>Citizen Apartment, Rohini Sector 13</td>\n",
       "      <td>1</td>\n",
       "      <td>15500000</td>\n",
       "      <td>Ready_to_move</td>\n",
       "      <td>Resale</td>\n",
       "      <td>Apartment</td>\n",
       "      <td>16315.8</td>\n",
       "    </tr>\n",
       "    <tr>\n",
       "      <th>3</th>\n",
       "      <td>600.0</td>\n",
       "      <td>2</td>\n",
       "      <td>2</td>\n",
       "      <td>Semi-Furnished</td>\n",
       "      <td>Rohini Sector 24</td>\n",
       "      <td>1</td>\n",
       "      <td>4200000</td>\n",
       "      <td>Ready_to_move</td>\n",
       "      <td>Resale</td>\n",
       "      <td>Builder_Floor</td>\n",
       "      <td>7000.0</td>\n",
       "    </tr>\n",
       "    <tr>\n",
       "      <th>4</th>\n",
       "      <td>650.0</td>\n",
       "      <td>2</td>\n",
       "      <td>2</td>\n",
       "      <td>Semi-Furnished</td>\n",
       "      <td>Rohini Sector 24 carpet area 650 sqft status R...</td>\n",
       "      <td>1</td>\n",
       "      <td>6200000</td>\n",
       "      <td>Ready_to_move</td>\n",
       "      <td>New_Property</td>\n",
       "      <td>Builder_Floor</td>\n",
       "      <td>9538.5</td>\n",
       "    </tr>\n",
       "  </tbody>\n",
       "</table>\n",
       "</div>"
      ],
      "text/plain": [
       "    Area  BHK  Bathroom      Furnishing  \\\n",
       "0  800.0    3         2  Semi-Furnished   \n",
       "1  750.0    2         2  Semi-Furnished   \n",
       "2  950.0    2         2       Furnished   \n",
       "3  600.0    2         2  Semi-Furnished   \n",
       "4  650.0    2         2  Semi-Furnished   \n",
       "\n",
       "                                            Locality  Parking     Price  \\\n",
       "0                                   Rohini Sector 25        1   6500000   \n",
       "1             J R Designers Floors, Rohini Sector 24        1   5000000   \n",
       "2                Citizen Apartment, Rohini Sector 13        1  15500000   \n",
       "3                                   Rohini Sector 24        1   4200000   \n",
       "4  Rohini Sector 24 carpet area 650 sqft status R...        1   6200000   \n",
       "\n",
       "          Status   Transaction           Type  Price(persqft)  \n",
       "0  Ready_to_move  New_Property  Builder_Floor          8125.0  \n",
       "1  Ready_to_move  New_Property      Apartment          6666.7  \n",
       "2  Ready_to_move        Resale      Apartment         16315.8  \n",
       "3  Ready_to_move        Resale  Builder_Floor          7000.0  \n",
       "4  Ready_to_move  New_Property  Builder_Floor          9538.5  "
      ]
     },
     "execution_count": 242,
     "metadata": {},
     "output_type": "execute_result"
    }
   ],
   "source": [
    "house_data.head()"
   ]
  },
  {
   "cell_type": "code",
   "execution_count": 243,
   "id": "a8276417",
   "metadata": {},
   "outputs": [],
   "source": [
    "# Drop the unncessary columns in the dataframe  \n",
    "house_data = house_data.drop(columns=['Transaction'], axis=1)"
   ]
  },
  {
   "cell_type": "code",
   "execution_count": 244,
   "id": "3b484d4e",
   "metadata": {},
   "outputs": [],
   "source": [
    "# Replace the values in some columns in proper way\n",
    "house_data['Status'] = house_data['Status'].str.replace('_', ' ').str.title()\n",
    "house_data['Furnishing'] = house_data['Furnishing'].str.replace('-',' ').str.title()\n",
    "house_data['Type'] = house_data['Type'].str.replace('_', ' ').str.title()\n",
    "house_data['Bathroom'] = house_data['Bathroom'].astype('Int64')\n",
    "house_data['Parking'] = house_data['Parking'].astype('Int64')\n",
    "house_data['Area'] = house_data['Area'].round().astype('Int64')"
   ]
  },
  {
   "cell_type": "code",
   "execution_count": 245,
   "id": "04e01e8e",
   "metadata": {},
   "outputs": [
    {
     "data": {
      "text/html": [
       "<div>\n",
       "<style scoped>\n",
       "    .dataframe tbody tr th:only-of-type {\n",
       "        vertical-align: middle;\n",
       "    }\n",
       "\n",
       "    .dataframe tbody tr th {\n",
       "        vertical-align: top;\n",
       "    }\n",
       "\n",
       "    .dataframe thead th {\n",
       "        text-align: right;\n",
       "    }\n",
       "</style>\n",
       "<table border=\"1\" class=\"dataframe\">\n",
       "  <thead>\n",
       "    <tr style=\"text-align: right;\">\n",
       "      <th></th>\n",
       "      <th>Area</th>\n",
       "      <th>BHK</th>\n",
       "      <th>Bathroom</th>\n",
       "      <th>Furnishing</th>\n",
       "      <th>Locality</th>\n",
       "      <th>Parking</th>\n",
       "      <th>Price</th>\n",
       "      <th>Status</th>\n",
       "      <th>Type</th>\n",
       "      <th>Price(persqft)</th>\n",
       "    </tr>\n",
       "  </thead>\n",
       "  <tbody>\n",
       "    <tr>\n",
       "      <th>0</th>\n",
       "      <td>800</td>\n",
       "      <td>3</td>\n",
       "      <td>2</td>\n",
       "      <td>Semi Furnished</td>\n",
       "      <td>Rohini Sector 25</td>\n",
       "      <td>1</td>\n",
       "      <td>6500000</td>\n",
       "      <td>Ready To Move</td>\n",
       "      <td>Builder Floor</td>\n",
       "      <td>8125.0</td>\n",
       "    </tr>\n",
       "    <tr>\n",
       "      <th>1</th>\n",
       "      <td>750</td>\n",
       "      <td>2</td>\n",
       "      <td>2</td>\n",
       "      <td>Semi Furnished</td>\n",
       "      <td>J R Designers Floors, Rohini Sector 24</td>\n",
       "      <td>1</td>\n",
       "      <td>5000000</td>\n",
       "      <td>Ready To Move</td>\n",
       "      <td>Apartment</td>\n",
       "      <td>6666.7</td>\n",
       "    </tr>\n",
       "    <tr>\n",
       "      <th>2</th>\n",
       "      <td>950</td>\n",
       "      <td>2</td>\n",
       "      <td>2</td>\n",
       "      <td>Furnished</td>\n",
       "      <td>Citizen Apartment, Rohini Sector 13</td>\n",
       "      <td>1</td>\n",
       "      <td>15500000</td>\n",
       "      <td>Ready To Move</td>\n",
       "      <td>Apartment</td>\n",
       "      <td>16315.8</td>\n",
       "    </tr>\n",
       "    <tr>\n",
       "      <th>3</th>\n",
       "      <td>600</td>\n",
       "      <td>2</td>\n",
       "      <td>2</td>\n",
       "      <td>Semi Furnished</td>\n",
       "      <td>Rohini Sector 24</td>\n",
       "      <td>1</td>\n",
       "      <td>4200000</td>\n",
       "      <td>Ready To Move</td>\n",
       "      <td>Builder Floor</td>\n",
       "      <td>7000.0</td>\n",
       "    </tr>\n",
       "    <tr>\n",
       "      <th>4</th>\n",
       "      <td>650</td>\n",
       "      <td>2</td>\n",
       "      <td>2</td>\n",
       "      <td>Semi Furnished</td>\n",
       "      <td>Rohini Sector 24 carpet area 650 sqft status R...</td>\n",
       "      <td>1</td>\n",
       "      <td>6200000</td>\n",
       "      <td>Ready To Move</td>\n",
       "      <td>Builder Floor</td>\n",
       "      <td>9538.5</td>\n",
       "    </tr>\n",
       "  </tbody>\n",
       "</table>\n",
       "</div>"
      ],
      "text/plain": [
       "   Area  BHK  Bathroom      Furnishing  \\\n",
       "0   800    3         2  Semi Furnished   \n",
       "1   750    2         2  Semi Furnished   \n",
       "2   950    2         2       Furnished   \n",
       "3   600    2         2  Semi Furnished   \n",
       "4   650    2         2  Semi Furnished   \n",
       "\n",
       "                                            Locality  Parking     Price  \\\n",
       "0                                   Rohini Sector 25        1   6500000   \n",
       "1             J R Designers Floors, Rohini Sector 24        1   5000000   \n",
       "2                Citizen Apartment, Rohini Sector 13        1  15500000   \n",
       "3                                   Rohini Sector 24        1   4200000   \n",
       "4  Rohini Sector 24 carpet area 650 sqft status R...        1   6200000   \n",
       "\n",
       "          Status           Type  Price(persqft)  \n",
       "0  Ready To Move  Builder Floor          8125.0  \n",
       "1  Ready To Move      Apartment          6666.7  \n",
       "2  Ready To Move      Apartment         16315.8  \n",
       "3  Ready To Move  Builder Floor          7000.0  \n",
       "4  Ready To Move  Builder Floor          9538.5  "
      ]
     },
     "execution_count": 245,
     "metadata": {},
     "output_type": "execute_result"
    }
   ],
   "source": [
    "house_data.head()"
   ]
  },
  {
   "cell_type": "code",
   "execution_count": 246,
   "id": "19371f62",
   "metadata": {},
   "outputs": [
    {
     "data": {
      "text/plain": [
       "Locality\n",
       "Lajpat Nagar 3                                        29\n",
       "Kailash Colony, Greater Kailash                       28\n",
       "Yamuna Vihar, Shahdara                                28\n",
       "J R Designers Floors, Rohini Sector 24                28\n",
       "Lajpat Nagar 2                                        27\n",
       "                                                      ..\n",
       "DLF Capitals Phase III, Shivaji Park, Punjabi Bagh     1\n",
       "Punjabi Bagh Enclave, Punjabi Bagh                     1\n",
       "Punjabi Bagh Enclave, Madipur, Punjabi Bagh            1\n",
       "Mandakini Enclave Project, Kalkaji                     1\n",
       "Pal Mohan Apartments, Punjabi Bagh                     1\n",
       "Name: count, Length: 353, dtype: int64"
      ]
     },
     "execution_count": 246,
     "metadata": {},
     "output_type": "execute_result"
    }
   ],
   "source": [
    "# Examime the locality column in dataframe\n",
    "location_stats = house_data['Locality'].apply(lambda x: x.strip()).value_counts(ascending=False)\n",
    "location_stats"
   ]
  },
  {
   "cell_type": "code",
   "execution_count": 247,
   "id": "17409c58",
   "metadata": {},
   "outputs": [
    {
     "data": {
      "text/plain": [
       "np.int64(1122)"
      ]
     },
     "execution_count": 247,
     "metadata": {},
     "output_type": "execute_result"
    }
   ],
   "source": [
    "# Length of the locality \n",
    "location_stats.values.sum()"
   ]
  },
  {
   "cell_type": "code",
   "execution_count": 248,
   "id": "7f46e6af",
   "metadata": {},
   "outputs": [
    {
     "data": {
      "text/plain": [
       "25"
      ]
     },
     "execution_count": 248,
     "metadata": {},
     "output_type": "execute_result"
    }
   ],
   "source": [
    "# Find the locality who is greather than 10 \n",
    "len(location_stats[location_stats>10]) "
   ]
  },
  {
   "cell_type": "code",
   "execution_count": 249,
   "id": "3c0543d1",
   "metadata": {},
   "outputs": [
    {
     "data": {
      "text/plain": [
       "328"
      ]
     },
     "execution_count": 249,
     "metadata": {},
     "output_type": "execute_result"
    }
   ],
   "source": [
    "len(location_stats[location_stats<=10])"
   ]
  },
  {
   "cell_type": "code",
   "execution_count": 250,
   "id": "f4082010",
   "metadata": {},
   "outputs": [],
   "source": [
    "# Get the values in locality who is less than 10 \n",
    "locality_10 = location_stats[location_stats<=10].index"
   ]
  },
  {
   "cell_type": "code",
   "execution_count": 251,
   "id": "4d26286b",
   "metadata": {},
   "outputs": [],
   "source": [
    "# Rename the less than 10 locality into Others\n",
    "house_data['Locality'] = house_data['Locality'].apply(lambda x: x if x not in locality_10 else \"Others\") "
   ]
  },
  {
   "cell_type": "code",
   "execution_count": 252,
   "id": "d9d34225",
   "metadata": {},
   "outputs": [
    {
     "data": {
      "text/html": [
       "<div>\n",
       "<style scoped>\n",
       "    .dataframe tbody tr th:only-of-type {\n",
       "        vertical-align: middle;\n",
       "    }\n",
       "\n",
       "    .dataframe tbody tr th {\n",
       "        vertical-align: top;\n",
       "    }\n",
       "\n",
       "    .dataframe thead th {\n",
       "        text-align: right;\n",
       "    }\n",
       "</style>\n",
       "<table border=\"1\" class=\"dataframe\">\n",
       "  <thead>\n",
       "    <tr style=\"text-align: right;\">\n",
       "      <th></th>\n",
       "      <th>Area</th>\n",
       "      <th>BHK</th>\n",
       "      <th>Bathroom</th>\n",
       "      <th>Furnishing</th>\n",
       "      <th>Locality</th>\n",
       "      <th>Parking</th>\n",
       "      <th>Price</th>\n",
       "      <th>Status</th>\n",
       "      <th>Type</th>\n",
       "      <th>Price(persqft)</th>\n",
       "    </tr>\n",
       "  </thead>\n",
       "  <tbody>\n",
       "    <tr>\n",
       "      <th>0</th>\n",
       "      <td>800</td>\n",
       "      <td>3</td>\n",
       "      <td>2</td>\n",
       "      <td>Semi Furnished</td>\n",
       "      <td>Others</td>\n",
       "      <td>1</td>\n",
       "      <td>6500000</td>\n",
       "      <td>Ready To Move</td>\n",
       "      <td>Builder Floor</td>\n",
       "      <td>8125.0</td>\n",
       "    </tr>\n",
       "    <tr>\n",
       "      <th>1</th>\n",
       "      <td>750</td>\n",
       "      <td>2</td>\n",
       "      <td>2</td>\n",
       "      <td>Semi Furnished</td>\n",
       "      <td>J R Designers Floors, Rohini Sector 24</td>\n",
       "      <td>1</td>\n",
       "      <td>5000000</td>\n",
       "      <td>Ready To Move</td>\n",
       "      <td>Apartment</td>\n",
       "      <td>6666.7</td>\n",
       "    </tr>\n",
       "    <tr>\n",
       "      <th>2</th>\n",
       "      <td>950</td>\n",
       "      <td>2</td>\n",
       "      <td>2</td>\n",
       "      <td>Furnished</td>\n",
       "      <td>Others</td>\n",
       "      <td>1</td>\n",
       "      <td>15500000</td>\n",
       "      <td>Ready To Move</td>\n",
       "      <td>Apartment</td>\n",
       "      <td>16315.8</td>\n",
       "    </tr>\n",
       "    <tr>\n",
       "      <th>3</th>\n",
       "      <td>600</td>\n",
       "      <td>2</td>\n",
       "      <td>2</td>\n",
       "      <td>Semi Furnished</td>\n",
       "      <td>Others</td>\n",
       "      <td>1</td>\n",
       "      <td>4200000</td>\n",
       "      <td>Ready To Move</td>\n",
       "      <td>Builder Floor</td>\n",
       "      <td>7000.0</td>\n",
       "    </tr>\n",
       "    <tr>\n",
       "      <th>4</th>\n",
       "      <td>650</td>\n",
       "      <td>2</td>\n",
       "      <td>2</td>\n",
       "      <td>Semi Furnished</td>\n",
       "      <td>Others</td>\n",
       "      <td>1</td>\n",
       "      <td>6200000</td>\n",
       "      <td>Ready To Move</td>\n",
       "      <td>Builder Floor</td>\n",
       "      <td>9538.5</td>\n",
       "    </tr>\n",
       "  </tbody>\n",
       "</table>\n",
       "</div>"
      ],
      "text/plain": [
       "   Area  BHK  Bathroom      Furnishing  \\\n",
       "0   800    3         2  Semi Furnished   \n",
       "1   750    2         2  Semi Furnished   \n",
       "2   950    2         2       Furnished   \n",
       "3   600    2         2  Semi Furnished   \n",
       "4   650    2         2  Semi Furnished   \n",
       "\n",
       "                                 Locality  Parking     Price         Status  \\\n",
       "0                                  Others        1   6500000  Ready To Move   \n",
       "1  J R Designers Floors, Rohini Sector 24        1   5000000  Ready To Move   \n",
       "2                                  Others        1  15500000  Ready To Move   \n",
       "3                                  Others        1   4200000  Ready To Move   \n",
       "4                                  Others        1   6200000  Ready To Move   \n",
       "\n",
       "            Type  Price(persqft)  \n",
       "0  Builder Floor          8125.0  \n",
       "1      Apartment          6666.7  \n",
       "2      Apartment         16315.8  \n",
       "3  Builder Floor          7000.0  \n",
       "4  Builder Floor          9538.5  "
      ]
     },
     "execution_count": 252,
     "metadata": {},
     "output_type": "execute_result"
    }
   ],
   "source": [
    "house_data.head()"
   ]
  },
  {
   "cell_type": "code",
   "execution_count": 253,
   "id": "36a3b9b9",
   "metadata": {},
   "outputs": [
    {
     "data": {
      "text/plain": [
       "array(['Others', 'rs, Rohini Sector 24', 'Lajpat Nagar 3',\n",
       "       'Lajpat Nagar 2', 'maryllis, Karol Bagh', 'New Friends Colony',\n",
       "       'ony, Greater Kailash', 'muna Vihar, Shahdara', 'Laxmi Nagar',\n",
       "       'Patel Nagar West', 'Sukhdev Vihar, Okhla', 'Saket',\n",
       "       'Safdarjung Enclave', 'h Games Village 2010',\n",
       "       ' Vihar, Mathura Road', 'Chhattarpur', 'Mehrauli',\n",
       "       'havir Enclave Part 1', 'Malviya Nagar', 'lony, Dilshad Garden',\n",
       "       'Vasundhara Enclave', 'i Nagar, Kirti Nagar',\n",
       "       'Sheikh Sarai Phase 1', 'Hauz Khas', 'Chittaranjan Park'],\n",
       "      dtype=object)"
      ]
     },
     "execution_count": 253,
     "metadata": {},
     "output_type": "execute_result"
    }
   ],
   "source": [
    "# Examine the greather than 10 locality \n",
    "location_stats2 = house_data['Locality'].apply(lambda x: x[-20:])\n",
    "location_stats2.unique()"
   ]
  },
  {
   "cell_type": "code",
   "execution_count": 254,
   "id": "d9a7c989",
   "metadata": {},
   "outputs": [],
   "source": [
    "# Replace some locality values in the correct locality value\n",
    "location_stats2 = location_stats2.replace({\n",
    "    'rs, Rohini Sector 24':'Rohini',\n",
    "    'maryllis, Karol Bagh':'Karol Bagh',\n",
    "    'ony, Greater Kailash': 'Greater Kailash',\n",
    "    'muna Vihar, Shahdara':'Shahdara',\n",
    "    'Sukhdev Vihar, Okhla':'Okhla',\n",
    "    'Apartment, Alaknanda':'Alaknanda',\n",
    "    ' Vihar, Mathura Road' :'Mathura Road',\n",
    "    'anglapuri, Sultanpur':'Sultanpur',\n",
    "    'havir Enclave Part 1':'Mahavir Enclave',\n",
    "    'lony, Dilshad Garden':'Dilshad Garden',\n",
    "    'i Nagar, Kirti Nagar':'Kirti Nagar',\n",
    "    'h Games Village 2010': 'Games Village 2010',\n",
    "    'havir Enclave Part 1': 'Mahavir Enclave',\n",
    "    'Rohini Sector 24': 'Rohini',\n",
    "    'Lajpat Nagar 2': 'Lajpat Nagar',\n",
    "    'Lajpat Nagar 3': 'Lajpat Nagar',\n",
    "    'Sheikh Sarai Phase 1': 'Sheikh Sarai'\n",
    "})\n"
   ]
  },
  {
   "cell_type": "code",
   "execution_count": 255,
   "id": "dba3bfe6",
   "metadata": {},
   "outputs": [
    {
     "name": "stdout",
     "output_type": "stream",
     "text": [
      "['Others' 'Rohini' 'Lajpat Nagar' 'Karol Bagh' 'New Friends Colony'\n",
      " 'Greater Kailash' 'Shahdara' 'Laxmi Nagar' 'Patel Nagar West' 'Okhla'\n",
      " 'Saket' 'Safdarjung Enclave' 'Games Village 2010' 'Mathura Road'\n",
      " 'Chhattarpur' 'Mehrauli' 'Mahavir Enclave' 'Malviya Nagar'\n",
      " 'Dilshad Garden' 'Vasundhara Enclave' 'Kirti Nagar' 'Sheikh Sarai'\n",
      " 'Hauz Khas' 'Chittaranjan Park']\n",
      "24\n"
     ]
    }
   ],
   "source": [
    "print(location_stats2.unique())\n",
    "print(len(location_stats2.unique()))"
   ]
  },
  {
   "cell_type": "code",
   "execution_count": 256,
   "id": "d4ddf441",
   "metadata": {},
   "outputs": [],
   "source": [
    "# Replace the locality values in the correct dataframe which is the house_data\n",
    "valid_locations = location_stats2.tolist()\n",
    "def extract_location(locality):\n",
    "    for loc in valid_locations:\n",
    "        if loc != 'Others' and loc in str(locality):\n",
    "            return loc\n",
    "    return 'Others'\n",
    "\n",
    "\n",
    "house_data['Locality'] = house_data['Locality'].apply(lambda x: extract_location(x))"
   ]
  },
  {
   "cell_type": "code",
   "execution_count": 257,
   "id": "4453a80e",
   "metadata": {},
   "outputs": [
    {
     "data": {
      "text/html": [
       "<div>\n",
       "<style scoped>\n",
       "    .dataframe tbody tr th:only-of-type {\n",
       "        vertical-align: middle;\n",
       "    }\n",
       "\n",
       "    .dataframe tbody tr th {\n",
       "        vertical-align: top;\n",
       "    }\n",
       "\n",
       "    .dataframe thead th {\n",
       "        text-align: right;\n",
       "    }\n",
       "</style>\n",
       "<table border=\"1\" class=\"dataframe\">\n",
       "  <thead>\n",
       "    <tr style=\"text-align: right;\">\n",
       "      <th></th>\n",
       "      <th>Area</th>\n",
       "      <th>BHK</th>\n",
       "      <th>Bathroom</th>\n",
       "      <th>Furnishing</th>\n",
       "      <th>Locality</th>\n",
       "      <th>Parking</th>\n",
       "      <th>Price</th>\n",
       "      <th>Status</th>\n",
       "      <th>Type</th>\n",
       "      <th>Price(persqft)</th>\n",
       "    </tr>\n",
       "  </thead>\n",
       "  <tbody>\n",
       "    <tr>\n",
       "      <th>0</th>\n",
       "      <td>800</td>\n",
       "      <td>3</td>\n",
       "      <td>2</td>\n",
       "      <td>Semi Furnished</td>\n",
       "      <td>Others</td>\n",
       "      <td>1</td>\n",
       "      <td>6500000</td>\n",
       "      <td>Ready To Move</td>\n",
       "      <td>Builder Floor</td>\n",
       "      <td>8125.0</td>\n",
       "    </tr>\n",
       "    <tr>\n",
       "      <th>1</th>\n",
       "      <td>750</td>\n",
       "      <td>2</td>\n",
       "      <td>2</td>\n",
       "      <td>Semi Furnished</td>\n",
       "      <td>Rohini</td>\n",
       "      <td>1</td>\n",
       "      <td>5000000</td>\n",
       "      <td>Ready To Move</td>\n",
       "      <td>Apartment</td>\n",
       "      <td>6666.7</td>\n",
       "    </tr>\n",
       "    <tr>\n",
       "      <th>2</th>\n",
       "      <td>950</td>\n",
       "      <td>2</td>\n",
       "      <td>2</td>\n",
       "      <td>Furnished</td>\n",
       "      <td>Others</td>\n",
       "      <td>1</td>\n",
       "      <td>15500000</td>\n",
       "      <td>Ready To Move</td>\n",
       "      <td>Apartment</td>\n",
       "      <td>16315.8</td>\n",
       "    </tr>\n",
       "    <tr>\n",
       "      <th>3</th>\n",
       "      <td>600</td>\n",
       "      <td>2</td>\n",
       "      <td>2</td>\n",
       "      <td>Semi Furnished</td>\n",
       "      <td>Others</td>\n",
       "      <td>1</td>\n",
       "      <td>4200000</td>\n",
       "      <td>Ready To Move</td>\n",
       "      <td>Builder Floor</td>\n",
       "      <td>7000.0</td>\n",
       "    </tr>\n",
       "    <tr>\n",
       "      <th>4</th>\n",
       "      <td>650</td>\n",
       "      <td>2</td>\n",
       "      <td>2</td>\n",
       "      <td>Semi Furnished</td>\n",
       "      <td>Others</td>\n",
       "      <td>1</td>\n",
       "      <td>6200000</td>\n",
       "      <td>Ready To Move</td>\n",
       "      <td>Builder Floor</td>\n",
       "      <td>9538.5</td>\n",
       "    </tr>\n",
       "  </tbody>\n",
       "</table>\n",
       "</div>"
      ],
      "text/plain": [
       "   Area  BHK  Bathroom      Furnishing Locality  Parking     Price  \\\n",
       "0   800    3         2  Semi Furnished   Others        1   6500000   \n",
       "1   750    2         2  Semi Furnished   Rohini        1   5000000   \n",
       "2   950    2         2       Furnished   Others        1  15500000   \n",
       "3   600    2         2  Semi Furnished   Others        1   4200000   \n",
       "4   650    2         2  Semi Furnished   Others        1   6200000   \n",
       "\n",
       "          Status           Type  Price(persqft)  \n",
       "0  Ready To Move  Builder Floor          8125.0  \n",
       "1  Ready To Move      Apartment          6666.7  \n",
       "2  Ready To Move      Apartment         16315.8  \n",
       "3  Ready To Move  Builder Floor          7000.0  \n",
       "4  Ready To Move  Builder Floor          9538.5  "
      ]
     },
     "execution_count": 257,
     "metadata": {},
     "output_type": "execute_result"
    }
   ],
   "source": [
    "# Print the house dataframe \n",
    "house_data.head()"
   ]
  },
  {
   "cell_type": "code",
   "execution_count": 258,
   "id": "47bb07aa",
   "metadata": {},
   "outputs": [
    {
     "data": {
      "text/plain": [
       "(1122, 10)"
      ]
     },
     "execution_count": 258,
     "metadata": {},
     "output_type": "execute_result"
    }
   ],
   "source": [
    "house_data.shape"
   ]
  },
  {
   "cell_type": "code",
   "execution_count": 259,
   "id": "862a7f32",
   "metadata": {},
   "outputs": [],
   "source": [
    "house_data = house_data[house_data.Parking <= 5]"
   ]
  },
  {
   "cell_type": "code",
   "execution_count": 260,
   "id": "b921ce33",
   "metadata": {},
   "outputs": [
    {
     "data": {
      "text/plain": [
       "(1110, 10)"
      ]
     },
     "execution_count": 260,
     "metadata": {},
     "output_type": "execute_result"
    }
   ],
   "source": [
    "house_data.shape   "
   ]
  },
  {
   "cell_type": "code",
   "execution_count": 261,
   "id": "c0d6500a",
   "metadata": {},
   "outputs": [
    {
     "data": {
      "text/html": [
       "<div>\n",
       "<style scoped>\n",
       "    .dataframe tbody tr th:only-of-type {\n",
       "        vertical-align: middle;\n",
       "    }\n",
       "\n",
       "    .dataframe tbody tr th {\n",
       "        vertical-align: top;\n",
       "    }\n",
       "\n",
       "    .dataframe thead th {\n",
       "        text-align: right;\n",
       "    }\n",
       "</style>\n",
       "<table border=\"1\" class=\"dataframe\">\n",
       "  <thead>\n",
       "    <tr style=\"text-align: right;\">\n",
       "      <th></th>\n",
       "      <th>Area</th>\n",
       "      <th>BHK</th>\n",
       "      <th>Bathroom</th>\n",
       "      <th>Furnishing</th>\n",
       "      <th>Locality</th>\n",
       "      <th>Parking</th>\n",
       "      <th>Price</th>\n",
       "      <th>Status</th>\n",
       "      <th>Type</th>\n",
       "      <th>Price(persqft)</th>\n",
       "    </tr>\n",
       "  </thead>\n",
       "  <tbody>\n",
       "    <tr>\n",
       "      <th>0</th>\n",
       "      <td>800</td>\n",
       "      <td>3</td>\n",
       "      <td>2</td>\n",
       "      <td>Semi Furnished</td>\n",
       "      <td>Others</td>\n",
       "      <td>1</td>\n",
       "      <td>6500000</td>\n",
       "      <td>Ready To Move</td>\n",
       "      <td>Builder Floor</td>\n",
       "      <td>8125.0</td>\n",
       "    </tr>\n",
       "    <tr>\n",
       "      <th>1</th>\n",
       "      <td>750</td>\n",
       "      <td>2</td>\n",
       "      <td>2</td>\n",
       "      <td>Semi Furnished</td>\n",
       "      <td>Rohini</td>\n",
       "      <td>1</td>\n",
       "      <td>5000000</td>\n",
       "      <td>Ready To Move</td>\n",
       "      <td>Apartment</td>\n",
       "      <td>6666.7</td>\n",
       "    </tr>\n",
       "  </tbody>\n",
       "</table>\n",
       "</div>"
      ],
      "text/plain": [
       "   Area  BHK  Bathroom      Furnishing Locality  Parking    Price  \\\n",
       "0   800    3         2  Semi Furnished   Others        1  6500000   \n",
       "1   750    2         2  Semi Furnished   Rohini        1  5000000   \n",
       "\n",
       "          Status           Type  Price(persqft)  \n",
       "0  Ready To Move  Builder Floor          8125.0  \n",
       "1  Ready To Move      Apartment          6666.7  "
      ]
     },
     "execution_count": 261,
     "metadata": {},
     "output_type": "execute_result"
    }
   ],
   "source": [
    "house_data.head(2)"
   ]
  },
  {
   "cell_type": "markdown",
   "id": "f46e83c7",
   "metadata": {},
   "source": [
    "<h3 style='color:purple'>Outlier Removal Using Standard Deviation and Mean</h3>"
   ]
  },
  {
   "cell_type": "markdown",
   "id": "d2b537ac",
   "metadata": {},
   "source": [
    "**Here we find that min price per sqft is 204 rs/sqft whereas max is 538461, this shows a wide variation in property prices. We should remove outliers per location using mean and one standard deviation**"
   ]
  },
  {
   "cell_type": "code",
   "execution_count": 262,
   "id": "f69ff9f6",
   "metadata": {},
   "outputs": [
    {
     "data": {
      "text/plain": [
       "'\\n# Boxplot to get the find the outliers in per_sqft area\\ndef outliers_boxplot_locality(df):\\n    plt.figure(figsize=(10, 5))\\n    sns.boxplot(data=df, x=\\'Locality\\', y=\\'Price(persqft)\\', width=0.8)\\n    plt.xticks(rotation=90)\\n    plt.title(\"Boxplot of Per Sqft Prices by Locality (All Data)\")\\n    plt.xlabel(\"\")\\n    plt.ylabel(\"\")\\n    plt.tight_layout()\\n    plt.show()\\n'"
      ]
     },
     "execution_count": 262,
     "metadata": {},
     "output_type": "execute_result"
    }
   ],
   "source": [
    "'''\n",
    "# Boxplot to get the find the outliers in per_sqft area\n",
    "def outliers_boxplot_locality(df):\n",
    "    plt.figure(figsize=(10, 5))\n",
    "    sns.boxplot(data=df, x='Locality', y='Price(persqft)', width=0.8)\n",
    "    plt.xticks(rotation=90)\n",
    "    plt.title(\"Boxplot of Per Sqft Prices by Locality (All Data)\")\n",
    "    plt.xlabel(\"\")\n",
    "    plt.ylabel(\"\")\n",
    "    plt.tight_layout()\n",
    "    plt.show()\n",
    "'''"
   ]
  },
  {
   "cell_type": "code",
   "execution_count": 263,
   "id": "a0d2ae4f",
   "metadata": {},
   "outputs": [],
   "source": [
    "# call the function for locality outliers\n",
    "#outliers_boxplot_locality(house_data)"
   ]
  },
  {
   "cell_type": "code",
   "execution_count": 264,
   "id": "2dd2eddf",
   "metadata": {},
   "outputs": [
    {
     "data": {
      "text/plain": [
       "(1110, 10)"
      ]
     },
     "execution_count": 264,
     "metadata": {},
     "output_type": "execute_result"
    }
   ],
   "source": [
    "# Calculate the shape of the dataframe\n",
    "house_data.shape"
   ]
  },
  {
   "cell_type": "code",
   "execution_count": 265,
   "id": "e6e53175",
   "metadata": {},
   "outputs": [
    {
     "data": {
      "text/plain": [
       "'\\ndef remove_outliers_advanced(df, column=\\'Price(persqft)\\', method=\\'iqr\\', iqr_factor=1.5, lower_pct=0.01, upper_pct=0.99, min_group_size=10):\\n    df_clean = pd.DataFrame()\\n\\n    for key, subdf in df.groupby(\\'Locality\\'):\\n        if len(subdf) < min_group_size:\\n            df_clean = pd.concat([df_clean, subdf], ignore_index=True)\\n            continue\\n\\n        subdf = subdf.copy()\\n\\n        if method == \\'iqr\\':\\n            Q1 = subdf[column].quantile(0.25)\\n            Q3 = subdf[column].quantile(0.75)\\n            IQR = Q3 - Q1\\n            lower = Q1 - iqr_factor * IQR\\n            upper = Q3 + iqr_factor * IQR\\n\\n        elif method == \\'percentile\\':\\n            lower = subdf[column].quantile(lower_pct)\\n            upper = subdf[column].quantile(upper_pct)\\n\\n        elif method == \\'both\\':\\n            Q1 = subdf[column].quantile(0.25)\\n            Q3 = subdf[column].quantile(0.75)\\n            IQR = Q3 - Q1\\n            iqr_lower = Q1 - iqr_factor * IQR\\n            iqr_upper = Q3 + iqr_factor * IQR\\n            pct_lower = subdf[column].quantile(lower_pct)\\n            pct_upper = subdf[column].quantile(upper_pct)\\n            lower = max(iqr_lower, pct_lower)\\n            upper = min(iqr_upper, pct_upper)\\n\\n        else:\\n            raise ValueError(\"Method must be \\'iqr\\', \\'percentile\\', or \\'both\\'\")\\n\\n        subdf = subdf[(subdf[column] >= lower) & (subdf[column] <= upper)]\\n        df_clean = pd.concat([df_clean, subdf], ignore_index=True)\\n\\n    return df_clean\\n'"
      ]
     },
     "execution_count": 265,
     "metadata": {},
     "output_type": "execute_result"
    }
   ],
   "source": [
    "# Remove Outliers in 3 Ways: Z-Score, Quantile (IQR), and Percentile Method from 'Per_Sqft' column in house_data\n",
    "'''\n",
    "def percentile_outliers(df, column='Price(persqft)', lower=0.025, upper=0.975, min_group_size=10):\n",
    "    df_clean = pd.DataFrame()\n",
    "    for key, subdf in df.groupby('Locality'):\n",
    "        if len(subdf) < min_group_size:\n",
    "            df_clean = pd.concat([df_clean, subdf], ignore_index=True)\n",
    "            continue\n",
    "        subdf = subdf.copy()\n",
    "        lb = subdf[column].quantile(lower)\n",
    "        ub = subdf[column].quantile(upper)\n",
    "        subdf = subdf[(subdf[column] >= lb) & (subdf[column] <= ub)]\n",
    "        df_clean = pd.concat([df_clean, subdf], ignore_index=True)\n",
    "    return df_clean\n",
    "'''\n",
    "'''\n",
    "from scipy.stats import median_abs_deviation\n",
    "def mad_outlier_removal(df, column='Price(persqft)', threshold=3.5, min_group_size=10):\n",
    "    df_clean = pd.DataFrame()\n",
    "    for key, subdf in df.groupby('Locality'):\n",
    "        if len(subdf) < min_group_size:\n",
    "            df_clean = pd.concat([df_clean, subdf], ignore_index=True)\n",
    "            continue\n",
    "        median_val = subdf[column].median()\n",
    "        mad_val = median_abs_deviation(subdf[column], scale='normal')\n",
    "        subdf['mad_score'] = abs(subdf[column] - median_val) / mad_val\n",
    "        subdf = subdf[subdf['mad_score'] < threshold]\n",
    "        df_clean = pd.concat([df_clean, subdf.drop(columns='mad_score')], ignore_index=True)\n",
    "    return df_clean\n",
    "\n",
    "'''\n",
    "\n",
    "'''\n",
    "def remove_outliers_advanced(df, column='Price(persqft)', method='iqr', iqr_factor=1.5, lower_pct=0.01, upper_pct=0.99, min_group_size=10):\n",
    "    df_clean = pd.DataFrame()\n",
    "    \n",
    "    for key, subdf in df.groupby('Locality'):\n",
    "        if len(subdf) < min_group_size:\n",
    "            df_clean = pd.concat([df_clean, subdf], ignore_index=True)\n",
    "            continue\n",
    "\n",
    "        subdf = subdf.copy()\n",
    "\n",
    "        if method == 'iqr':\n",
    "            Q1 = subdf[column].quantile(0.25)\n",
    "            Q3 = subdf[column].quantile(0.75)\n",
    "            IQR = Q3 - Q1\n",
    "            lower = Q1 - iqr_factor * IQR\n",
    "            upper = Q3 + iqr_factor * IQR\n",
    "\n",
    "        elif method == 'percentile':\n",
    "            lower = subdf[column].quantile(lower_pct)\n",
    "            upper = subdf[column].quantile(upper_pct)\n",
    "\n",
    "        elif method == 'both':\n",
    "            Q1 = subdf[column].quantile(0.25)\n",
    "            Q3 = subdf[column].quantile(0.75)\n",
    "            IQR = Q3 - Q1\n",
    "            iqr_lower = Q1 - iqr_factor * IQR\n",
    "            iqr_upper = Q3 + iqr_factor * IQR\n",
    "            pct_lower = subdf[column].quantile(lower_pct)\n",
    "            pct_upper = subdf[column].quantile(upper_pct)\n",
    "            lower = max(iqr_lower, pct_lower)\n",
    "            upper = min(iqr_upper, pct_upper)\n",
    "\n",
    "        else:\n",
    "            raise ValueError(\"Method must be 'iqr', 'percentile', or 'both'\")\n",
    "\n",
    "        subdf = subdf[(subdf[column] >= lower) & (subdf[column] <= upper)]\n",
    "        df_clean = pd.concat([df_clean, subdf], ignore_index=True)\n",
    "    \n",
    "    return df_clean\n",
    "'''\n"
   ]
  },
  {
   "cell_type": "code",
   "execution_count": 266,
   "id": "261f9e92",
   "metadata": {},
   "outputs": [],
   "source": [
    "#remove_outliers_advanced(house_data).head()"
   ]
  },
  {
   "cell_type": "code",
   "execution_count": 267,
   "id": "4f0b9273",
   "metadata": {},
   "outputs": [],
   "source": [
    "#print(\"Original:\", house_data.shape)\n",
    "#print(\"Percentile:\", remove_outliers_advanced(house_data).shape)\n"
   ]
  },
  {
   "cell_type": "code",
   "execution_count": 268,
   "id": "19d9204a",
   "metadata": {},
   "outputs": [],
   "source": [
    "# Remove those outlier rows from the main dataframe\n",
    "#df2 = mad_outlier_removal(house_data)\n",
    "#df2\n",
    "\n",
    "# Apply the final refined filter\n",
    "#df2 = remove_outliers_advanced(house_data, method='both', iqr_factor=1.3, lower_pct=0.02, upper_pct=0.98)\n",
    "#df2\n"
   ]
  },
  {
   "cell_type": "code",
   "execution_count": 269,
   "id": "2fc7a30a",
   "metadata": {},
   "outputs": [],
   "source": [
    "#df2.shape"
   ]
  },
  {
   "cell_type": "code",
   "execution_count": 270,
   "id": "d140e041",
   "metadata": {},
   "outputs": [
    {
     "data": {
      "text/plain": [
       "\"\\ndef plot_boxplot(df2, title):\\n    plt.figure(figsize=(10, 5))\\n    sns.boxplot(data=df2, x='Locality', y='Price(persqft)')\\n    plt.xticks(rotation=90)\\n    plt.title(title, fontsize=14)\\n    plt.ylim(0, 100000)  \\n    plt.tight_layout()\\n    plt.show()\\n\""
      ]
     },
     "execution_count": 270,
     "metadata": {},
     "output_type": "execute_result"
    }
   ],
   "source": [
    "'''\n",
    "def plot_boxplot(df2, title):\n",
    "    plt.figure(figsize=(10, 5))\n",
    "    sns.boxplot(data=df2, x='Locality', y='Price(persqft)')\n",
    "    plt.xticks(rotation=90)\n",
    "    plt.title(title, fontsize=14)\n",
    "    plt.ylim(0, 100000)  \n",
    "    plt.tight_layout()\n",
    "    plt.show()\n",
    "'''"
   ]
  },
  {
   "cell_type": "code",
   "execution_count": 271,
   "id": "73caed60",
   "metadata": {},
   "outputs": [],
   "source": [
    "\n",
    "# plot_boxplot(df2, \"After Removing Outliers (IQR)\")\n"
   ]
  },
  {
   "cell_type": "code",
   "execution_count": 272,
   "id": "9b39503d",
   "metadata": {},
   "outputs": [],
   "source": [
    "# Get the bhk and bathroom outliers\n",
    "def plot_scatter_chart(df, location):\n",
    "    bhk2 = df[(df['Locality'] == location) & (df['BHK'] == 2)]\n",
    "    bhk3 = df[(df['Locality'] == location) & (df['BHK'] == 3)]\n",
    "    matplotlib.rcParams['figure.figsize'] = (8, 4)\n",
    "    plt.scatter(bhk2['Price(persqft)'], bhk2['Price'], color='blue', label='2 BHK', s=50)\n",
    "    plt.scatter(bhk3['Price(persqft)'], bhk3['Price'], color='green', marker='+', label='3 BHK', s=50)\n",
    "    plt.xlabel(\"Price (per sqft)\")\n",
    "    plt.ylabel(\"Total Price (in Lakhs)\")\n",
    "    plt.title(f\"BHK Price Comparison in {location}\")\n",
    "    plt.legend()\n",
    "    plt.grid(True)\n",
    "    plt.show()"
   ]
  },
  {
   "cell_type": "code",
   "execution_count": 273,
   "id": "c1076ccf",
   "metadata": {},
   "outputs": [
    {
     "data": {
      "text/plain": [
       "(756, 10)"
      ]
     },
     "execution_count": 273,
     "metadata": {},
     "output_type": "execute_result"
    }
   ],
   "source": [
    "# Remove BHK Outliers\n",
    "def remove_bhk_outliers(df):\n",
    "    exclude_indices = np.array([])\n",
    "    for location, location_df in df.groupby('Locality'):\n",
    "        bhk_stats = {}\n",
    "        for bhk, bhk_df in location_df.groupby('BHK'):\n",
    "            bhk_stats[bhk] = {\n",
    "                'mean': np.mean(bhk_df['Price(persqft)']),\n",
    "                'std': np.std(bhk_df['Price(persqft)']),\n",
    "                'count': bhk_df.shape[0]\n",
    "            }\n",
    "        for bhk, bhk_df in location_df.groupby('BHK'):\n",
    "            stats = bhk_stats.get(bhk - 1)\n",
    "            if stats and stats['count'] > 5:\n",
    "                exclude_indices = np.append(\n",
    "                    exclude_indices,\n",
    "                    bhk_df[bhk_df['Price(persqft)'] < stats['mean']].index.values\n",
    "                )\n",
    "    return df.drop(exclude_indices, axis='index')\n",
    "\n",
    "df3 = remove_bhk_outliers(house_data)\n",
    "df3.shape\n"
   ]
  },
  {
   "cell_type": "code",
   "execution_count": 274,
   "id": "d48a1f63",
   "metadata": {},
   "outputs": [
    {
     "data": {
      "text/html": [
       "<div>\n",
       "<style scoped>\n",
       "    .dataframe tbody tr th:only-of-type {\n",
       "        vertical-align: middle;\n",
       "    }\n",
       "\n",
       "    .dataframe tbody tr th {\n",
       "        vertical-align: top;\n",
       "    }\n",
       "\n",
       "    .dataframe thead th {\n",
       "        text-align: right;\n",
       "    }\n",
       "</style>\n",
       "<table border=\"1\" class=\"dataframe\">\n",
       "  <thead>\n",
       "    <tr style=\"text-align: right;\">\n",
       "      <th></th>\n",
       "      <th>Area</th>\n",
       "      <th>BHK</th>\n",
       "      <th>Bathroom</th>\n",
       "      <th>Furnishing</th>\n",
       "      <th>Locality</th>\n",
       "      <th>Parking</th>\n",
       "      <th>Price</th>\n",
       "      <th>Status</th>\n",
       "      <th>Type</th>\n",
       "      <th>Price(persqft)</th>\n",
       "    </tr>\n",
       "  </thead>\n",
       "  <tbody>\n",
       "    <tr>\n",
       "      <th>1</th>\n",
       "      <td>750</td>\n",
       "      <td>2</td>\n",
       "      <td>2</td>\n",
       "      <td>Semi Furnished</td>\n",
       "      <td>Rohini</td>\n",
       "      <td>1</td>\n",
       "      <td>5000000</td>\n",
       "      <td>Ready To Move</td>\n",
       "      <td>Apartment</td>\n",
       "      <td>6666.7</td>\n",
       "    </tr>\n",
       "    <tr>\n",
       "      <th>2</th>\n",
       "      <td>950</td>\n",
       "      <td>2</td>\n",
       "      <td>2</td>\n",
       "      <td>Furnished</td>\n",
       "      <td>Others</td>\n",
       "      <td>1</td>\n",
       "      <td>15500000</td>\n",
       "      <td>Ready To Move</td>\n",
       "      <td>Apartment</td>\n",
       "      <td>16315.8</td>\n",
       "    </tr>\n",
       "    <tr>\n",
       "      <th>4</th>\n",
       "      <td>650</td>\n",
       "      <td>2</td>\n",
       "      <td>2</td>\n",
       "      <td>Semi Furnished</td>\n",
       "      <td>Others</td>\n",
       "      <td>1</td>\n",
       "      <td>6200000</td>\n",
       "      <td>Ready To Move</td>\n",
       "      <td>Builder Floor</td>\n",
       "      <td>9538.5</td>\n",
       "    </tr>\n",
       "    <tr>\n",
       "      <th>12</th>\n",
       "      <td>630</td>\n",
       "      <td>2</td>\n",
       "      <td>2</td>\n",
       "      <td>Semi Furnished</td>\n",
       "      <td>Others</td>\n",
       "      <td>1</td>\n",
       "      <td>5500000</td>\n",
       "      <td>Ready To Move</td>\n",
       "      <td>Builder Floor</td>\n",
       "      <td>8730.2</td>\n",
       "    </tr>\n",
       "    <tr>\n",
       "      <th>14</th>\n",
       "      <td>344</td>\n",
       "      <td>2</td>\n",
       "      <td>2</td>\n",
       "      <td>Semi Furnished</td>\n",
       "      <td>Others</td>\n",
       "      <td>1</td>\n",
       "      <td>3310000</td>\n",
       "      <td>Ready To Move</td>\n",
       "      <td>Builder Floor</td>\n",
       "      <td>9609.7</td>\n",
       "    </tr>\n",
       "  </tbody>\n",
       "</table>\n",
       "</div>"
      ],
      "text/plain": [
       "    Area  BHK  Bathroom      Furnishing Locality  Parking     Price  \\\n",
       "1    750    2         2  Semi Furnished   Rohini        1   5000000   \n",
       "2    950    2         2       Furnished   Others        1  15500000   \n",
       "4    650    2         2  Semi Furnished   Others        1   6200000   \n",
       "12   630    2         2  Semi Furnished   Others        1   5500000   \n",
       "14   344    2         2  Semi Furnished   Others        1   3310000   \n",
       "\n",
       "           Status           Type  Price(persqft)  \n",
       "1   Ready To Move      Apartment          6666.7  \n",
       "2   Ready To Move      Apartment         16315.8  \n",
       "4   Ready To Move  Builder Floor          9538.5  \n",
       "12  Ready To Move  Builder Floor          8730.2  \n",
       "14  Ready To Move  Builder Floor          9609.7  "
      ]
     },
     "execution_count": 274,
     "metadata": {},
     "output_type": "execute_result"
    }
   ],
   "source": [
    "df3.head()"
   ]
  },
  {
   "cell_type": "code",
   "execution_count": 275,
   "id": "89674946",
   "metadata": {},
   "outputs": [
    {
     "data": {
      "text/plain": [
       "(756, 10)"
      ]
     },
     "execution_count": 275,
     "metadata": {},
     "output_type": "execute_result"
    }
   ],
   "source": [
    "df3.shape"
   ]
  },
  {
   "cell_type": "code",
   "execution_count": 276,
   "id": "c5fd9f55",
   "metadata": {},
   "outputs": [
    {
     "data": {
      "image/png": "[encoded data removed]",
      "text/plain": [
       "<Figure size 800x400 with 2 Axes>"
      ]
     },
     "metadata": {},
     "output_type": "display_data"
    }
   ],
   "source": [
    "# Plot heatmap of numerical feature correlations\n",
    "plt.figure(figsize=(8, 4))\n",
    "sns.heatmap(df3.corr(numeric_only=True), annot=True, cmap='coolwarm', fmt='.1f', linewidths=0.5)\n",
    "plt.title(\"Heatmap of Numerical Feature Correlations\")\n",
    "plt.show()"
   ]
  },
  {
   "cell_type": "code",
   "execution_count": 277,
   "id": "0f641e02",
   "metadata": {},
   "outputs": [],
   "source": [
    "# Save the cleaned dataframe after removing outliers\n",
    "df3.to_csv(\"dhp_cleaned.csv\", index=False)"
   ]
  },
  {
   "cell_type": "code",
   "execution_count": 278,
   "id": "1ace5e08",
   "metadata": {},
   "outputs": [],
   "source": [
    "# Drop the 'Per_Sqft' column from df2\n",
    "df3 = df3.drop(['Price(persqft)'], axis=1)"
   ]
  },
  {
   "cell_type": "markdown",
   "id": "124cccb0",
   "metadata": {},
   "source": [
    "<h3 style='color:purple'>Cross Validation & Train Test Data Splitting For Model Selection</h3>"
   ]
  },
  {
   "cell_type": "code",
   "execution_count": 279,
   "id": "d3d9c70f",
   "metadata": {},
   "outputs": [
    {
     "data": {
      "text/html": [
       "<div>\n",
       "<style scoped>\n",
       "    .dataframe tbody tr th:only-of-type {\n",
       "        vertical-align: middle;\n",
       "    }\n",
       "\n",
       "    .dataframe tbody tr th {\n",
       "        vertical-align: top;\n",
       "    }\n",
       "\n",
       "    .dataframe thead th {\n",
       "        text-align: right;\n",
       "    }\n",
       "</style>\n",
       "<table border=\"1\" class=\"dataframe\">\n",
       "  <thead>\n",
       "    <tr style=\"text-align: right;\">\n",
       "      <th></th>\n",
       "      <th>Area</th>\n",
       "      <th>BHK</th>\n",
       "      <th>Bathroom</th>\n",
       "      <th>Furnishing</th>\n",
       "      <th>Locality</th>\n",
       "      <th>Parking</th>\n",
       "      <th>Price</th>\n",
       "      <th>Status</th>\n",
       "      <th>Type</th>\n",
       "    </tr>\n",
       "  </thead>\n",
       "  <tbody>\n",
       "    <tr>\n",
       "      <th>1</th>\n",
       "      <td>750</td>\n",
       "      <td>2</td>\n",
       "      <td>2</td>\n",
       "      <td>Semi Furnished</td>\n",
       "      <td>Rohini</td>\n",
       "      <td>1</td>\n",
       "      <td>5000000</td>\n",
       "      <td>Ready To Move</td>\n",
       "      <td>Apartment</td>\n",
       "    </tr>\n",
       "    <tr>\n",
       "      <th>2</th>\n",
       "      <td>950</td>\n",
       "      <td>2</td>\n",
       "      <td>2</td>\n",
       "      <td>Furnished</td>\n",
       "      <td>Others</td>\n",
       "      <td>1</td>\n",
       "      <td>15500000</td>\n",
       "      <td>Ready To Move</td>\n",
       "      <td>Apartment</td>\n",
       "    </tr>\n",
       "    <tr>\n",
       "      <th>4</th>\n",
       "      <td>650</td>\n",
       "      <td>2</td>\n",
       "      <td>2</td>\n",
       "      <td>Semi Furnished</td>\n",
       "      <td>Others</td>\n",
       "      <td>1</td>\n",
       "      <td>6200000</td>\n",
       "      <td>Ready To Move</td>\n",
       "      <td>Builder Floor</td>\n",
       "    </tr>\n",
       "    <tr>\n",
       "      <th>12</th>\n",
       "      <td>630</td>\n",
       "      <td>2</td>\n",
       "      <td>2</td>\n",
       "      <td>Semi Furnished</td>\n",
       "      <td>Others</td>\n",
       "      <td>1</td>\n",
       "      <td>5500000</td>\n",
       "      <td>Ready To Move</td>\n",
       "      <td>Builder Floor</td>\n",
       "    </tr>\n",
       "    <tr>\n",
       "      <th>14</th>\n",
       "      <td>344</td>\n",
       "      <td>2</td>\n",
       "      <td>2</td>\n",
       "      <td>Semi Furnished</td>\n",
       "      <td>Others</td>\n",
       "      <td>1</td>\n",
       "      <td>3310000</td>\n",
       "      <td>Ready To Move</td>\n",
       "      <td>Builder Floor</td>\n",
       "    </tr>\n",
       "  </tbody>\n",
       "</table>\n",
       "</div>"
      ],
      "text/plain": [
       "    Area  BHK  Bathroom      Furnishing Locality  Parking     Price  \\\n",
       "1    750    2         2  Semi Furnished   Rohini        1   5000000   \n",
       "2    950    2         2       Furnished   Others        1  15500000   \n",
       "4    650    2         2  Semi Furnished   Others        1   6200000   \n",
       "12   630    2         2  Semi Furnished   Others        1   5500000   \n",
       "14   344    2         2  Semi Furnished   Others        1   3310000   \n",
       "\n",
       "           Status           Type  \n",
       "1   Ready To Move      Apartment  \n",
       "2   Ready To Move      Apartment  \n",
       "4   Ready To Move  Builder Floor  \n",
       "12  Ready To Move  Builder Floor  \n",
       "14  Ready To Move  Builder Floor  "
      ]
     },
     "execution_count": 279,
     "metadata": {},
     "output_type": "execute_result"
    }
   ],
   "source": [
    "# Print the first few rows of the cleaned dataframe\n",
    "df3.head()"
   ]
  },
  {
   "cell_type": "code",
   "execution_count": 280,
   "id": "d27a317b",
   "metadata": {},
   "outputs": [
    {
     "data": {
      "text/plain": [
       "(756, 9)"
      ]
     },
     "execution_count": 280,
     "metadata": {},
     "output_type": "execute_result"
    }
   ],
   "source": [
    "df3.shape"
   ]
  },
  {
   "cell_type": "code",
   "execution_count": 281,
   "id": "963a139c",
   "metadata": {},
   "outputs": [
    {
     "data": {
      "text/plain": [
       "((756, 8), (756,))"
      ]
     },
     "execution_count": 281,
     "metadata": {},
     "output_type": "execute_result"
    }
   ],
   "source": [
    "# Get the x and y values from the dataframe\n",
    "x = df3[['Area', 'BHK', 'Bathroom', 'Furnishing', 'Locality', 'Parking', 'Type', 'Status']]\n",
    "y = df3['Price']\n",
    "x.shape,y.shape"
   ]
  },
  {
   "cell_type": "code",
   "execution_count": 282,
   "id": "ced1731a",
   "metadata": {},
   "outputs": [
    {
     "data": {
      "text/plain": [
       "((604, 8), (152, 8), (604,), (152,))"
      ]
     },
     "execution_count": 282,
     "metadata": {},
     "output_type": "execute_result"
    }
   ],
   "source": [
    "# Import train_test_split library\n",
    "from sklearn.model_selection import train_test_split\n",
    "\n",
    "# Split the data into training and testing sets with a test size of 20%\n",
    "X_train, X_test, y_train, y_test = train_test_split(x, y, test_size=0.2, random_state=42)\n",
    "X_train.shape, X_test.shape, y_train.shape, y_test.shape\n"
   ]
  },
  {
   "cell_type": "markdown",
   "id": "933c6d77",
   "metadata": {},
   "source": [
    "<h3 style='color:purple'>One Hot Encoding</h3>"
   ]
  },
  {
   "cell_type": "code",
   "execution_count": 283,
   "id": "616a7eba",
   "metadata": {},
   "outputs": [
    {
     "name": "stdout",
     "output_type": "stream",
     "text": [
      "(604, 31) (152, 31)\n"
     ]
    }
   ],
   "source": [
    "# import Preprocessing libraries\n",
    "from sklearn.compose import ColumnTransformer\n",
    "from sklearn.preprocessing import OneHotEncoder, OrdinalEncoder, StandardScaler\n",
    "\n",
    "\n",
    "# Define feature columns\n",
    "onehot_cols = ['Locality', 'Furnishing']\n",
    "ordinal_cols = ['Status', 'Type']\n",
    "numeric_cols = ['Area', 'BHK', 'Bathroom', 'Parking']\n",
    "\n",
    "# Combine all\n",
    "all_features = onehot_cols + ordinal_cols + numeric_cols\n",
    "\n",
    "# Drop the target if needed\n",
    "X_train = X_train[all_features]\n",
    "X_test = X_test[all_features]\n",
    "\n",
    "# Define transformer\n",
    "ct = ColumnTransformer(\n",
    "    transformers=[\n",
    "        ('onehot', OneHotEncoder(drop='first', handle_unknown='ignore'), onehot_cols),\n",
    "        ('ordinal', OrdinalEncoder(), ordinal_cols),\n",
    "        ('scaler', StandardScaler(), numeric_cols)\n",
    "    ]\n",
    ")\n",
    "\n",
    "X_train_transformed = ct.fit_transform(X_train)\n",
    "X_test_transformed = ct.transform(X_test)\n",
    "\n",
    "print(X_train_transformed.shape, X_test_transformed.shape)\n"
   ]
  },
  {
   "cell_type": "code",
   "execution_count": 284,
   "id": "58e0e077",
   "metadata": {},
   "outputs": [
    {
     "name": "stdout",
     "output_type": "stream",
     "text": [
      "OneHotEncoded columns: ['Locality_Chittaranjan Park' 'Locality_Dilshad Garden'\n",
      " 'Locality_Games Village 2010' 'Locality_Greater Kailash'\n",
      " 'Locality_Hauz Khas' 'Locality_Karol Bagh' 'Locality_Kirti Nagar'\n",
      " 'Locality_Lajpat Nagar' 'Locality_Laxmi Nagar' 'Locality_Mahavir Enclave'\n",
      " 'Locality_Malviya Nagar' 'Locality_Mathura Road' 'Locality_Mehrauli'\n",
      " 'Locality_New Friends Colony' 'Locality_Okhla' 'Locality_Others'\n",
      " 'Locality_Patel Nagar West' 'Locality_Rohini'\n",
      " 'Locality_Safdarjung Enclave' 'Locality_Saket' 'Locality_Shahdara'\n",
      " 'Locality_Sheikh Sarai' 'Locality_Vasundhara Enclave'\n",
      " 'Furnishing_Semi Furnished' 'Furnishing_Unfurnished']\n",
      "Total one-hot columns: 25\n",
      "Total transformed columns: 31\n"
     ]
    }
   ],
   "source": [
    "# Check the one-hot encoded columns and their total count\n",
    "onehot = ct.named_transformers_['onehot']\n",
    "print(\"OneHotEncoded columns:\", onehot.get_feature_names_out())\n",
    "print(\"Total one-hot columns:\", len(onehot.get_feature_names_out()))\n",
    "\n",
    "print(\"Total transformed columns:\", X_train_transformed.shape[1])\n"
   ]
  },
  {
   "cell_type": "markdown",
   "id": "4eb24dc9",
   "metadata": {},
   "source": [
    "<h3 style='color:purple'>Building a model using datasets</h3>"
   ]
  },
  {
   "cell_type": "code",
   "execution_count": 285,
   "id": "c92d00ec",
   "metadata": {},
   "outputs": [],
   "source": [
    "# Import Models libraries\n",
    "from sklearn.linear_model import LinearRegression, Ridge, Lasso, ElasticNet\n",
    "from sklearn.ensemble import RandomForestRegressor, GradientBoostingRegressor, AdaBoostRegressor\n",
    "from sklearn.tree import DecisionTreeRegressor\n",
    "from sklearn.svm import SVR\n",
    "from sklearn.neighbors import KNeighborsRegressor\n",
    "from catboost import CatBoostRegressor\n",
    "from xgboost import XGBRegressor\n",
    "from lightgbm import LGBMRegressor\n",
    "from sklearn.pipeline import Pipeline\n",
    "\n",
    "\n",
    "# Define all models\n",
    "models = {\n",
    "    \"Linear Regression\": LinearRegression(),\n",
    "    \"Ridge\": Ridge(),\n",
    "    \"Lasso\": Lasso(),\n",
    "    \"ElasticNet\": ElasticNet(),\n",
    "    \"Decision Tree\": DecisionTreeRegressor(random_state=42),\n",
    "    \"Random Forest\": RandomForestRegressor(random_state=42),\n",
    "    \"Gradient Boosting\": GradientBoostingRegressor(random_state=42),\n",
    "    \"AdaBoost\": AdaBoostRegressor(random_state=42),\n",
    "    \"SVR\": SVR(),\n",
    "    \"KNN\": KNeighborsRegressor(),\n",
    "    \"XGBoost\": XGBRegressor(n_estimators=200, max_depth=4, learning_rate=0.05, random_state=42),\n",
    "    \"CatBoost\": CatBoostRegressor(\n",
    "        iterations=500,\n",
    "        learning_rate=0.05,\n",
    "        depth=6,\n",
    "        verbose=0,\n",
    "        random_state=42\n",
    "    )\n",
    "}\n",
    "# Create pipelines for each model\n",
    "pipelines = {\n",
    "    name: Pipeline(steps=[(\"preprocessor\", ct), (\"model\", model)])\n",
    "    for name, model in models.items()\n",
    "} "
   ]
  },
  {
   "cell_type": "code",
   "execution_count": 286,
   "id": "fd35e1e8",
   "metadata": {},
   "outputs": [
    {
     "name": "stdout",
     "output_type": "stream",
     "text": [
      "Model Performance (Average R² Score as Percentage):\n",
      "\n",
      "Linear Regression: 77.55%\n",
      "Ridge: 77.61%\n",
      "Lasso: 77.55%\n",
      "ElasticNet: 73.11%\n",
      "Decision Tree: 67.41%\n",
      "Random Forest: 80.12%\n",
      "Gradient Boosting: 80.99%\n",
      "AdaBoost: 71.69%\n",
      "SVR: -9.21%\n",
      "KNN: 78.84%\n",
      "XGBoost: 81.64%\n",
      "CatBoost: 84.23%\n"
     ]
    }
   ],
   "source": [
    "# Import kfold cross-validation library\n",
    "from sklearn.model_selection import  cross_val_score, KFold\n",
    "\n",
    "\n",
    "# Define KFold cross-validation\n",
    "cv = KFold(n_splits=5, shuffle=True, random_state=42)\n",
    "\n",
    "# Evaluate each model using R² score in percentage\n",
    "print(\"Model Performance (Average R² Score as Percentage):\\n\")\n",
    "for name, pipeline in pipelines.items():\n",
    "    try:\n",
    "        scores = cross_val_score(pipeline, x, y, cv=cv, scoring='r2')\n",
    "        avg_score = scores.mean() * 100 \n",
    "        print(f\"{name}: {avg_score:.2f}%\")\n",
    "    except Exception as e:\n",
    "        print(f\"{name}: Error during evaluation - {e}\")\n"
   ]
  },
  {
   "cell_type": "code",
   "execution_count": 287,
   "id": "3410c458",
   "metadata": {},
   "outputs": [
    {
     "name": "stdout",
     "output_type": "stream",
     "text": [
      "Test R2 Score: 82.26%\n",
      "Test RMSE: 7441736.13\n"
     ]
    }
   ],
   "source": [
    "# Select the best model based on R² score\n",
    "from sklearn.metrics import r2_score, mean_squared_error\n",
    "\n",
    "y_train_log = np.log1p(y_train)\n",
    "y_test_log = np.log1p(y_test)\n",
    "\n",
    "best_model_pipeline = pipelines[\"Random Forest\"]\n",
    "best_model_pipeline.fit(X_train, y_train_log)\n",
    "\n",
    "y_pred_log = best_model_pipeline.predict(X_test)\n",
    "y_pred = np.expm1(y_pred_log)\n",
    "\n",
    "r2 = r2_score(y_test, y_pred) * 100\n",
    "rmse = np.sqrt(mean_squared_error(y_test, y_pred))\n",
    "\n",
    "print(\"Test R2 Score: {:.2f}%\".format(r2))\n",
    "print(\"Test RMSE: {:.2f}\".format(rmse))"
   ]
  },
  {
   "cell_type": "code",
   "execution_count": 288,
   "id": "249c1db0",
   "metadata": {},
   "outputs": [
    {
     "name": "stdout",
     "output_type": "stream",
     "text": [
      "Best params: {'model__max_depth': 10, 'model__min_samples_split': 5, 'model__n_estimators': 100}\n"
     ]
    }
   ],
   "source": [
    "# Turning\n",
    "from sklearn.model_selection import GridSearchCV\n",
    "params = {\n",
    "    'model__n_estimators': [100, 200],\n",
    "    'model__max_depth': [10, 20],\n",
    "    'model__min_samples_split': [2, 5]\n",
    "}\n",
    "grid = GridSearchCV(pipelines[\"Random Forest\"], params, cv=5, scoring='r2')\n",
    "grid.fit(X_train, y_train)\n",
    "print(\"Best params:\", grid.best_params_)\n"
   ]
  },
  {
   "cell_type": "code",
   "execution_count": 289,
   "id": "e30b98ae",
   "metadata": {},
   "outputs": [
    {
     "name": "stdout",
     "output_type": "stream",
     "text": [
      "Tuned R2 Score: 81.36%\n",
      "Tuned RMSE: ₹7,628,254.92\n"
     ]
    }
   ],
   "source": [
    "# Best Model for find \n",
    "# Get best model from GridSearchCV\n",
    "best_model_pipeline = grid.best_estimator_\n",
    "\n",
    "# Make predictions\n",
    "y_pred = best_model_pipeline.predict(X_test)\n",
    "\n",
    "# Evaluate R² and RMSE\n",
    "r2 = r2_score(y_test, y_pred)\n",
    "rmse = np.sqrt(mean_squared_error(y_test, y_pred))\n",
    "\n",
    "# Show metrics\n",
    "print(f\"Tuned R2 Score: {r2 * 100:.2f}%\")\n",
    "print(f\"Tuned RMSE: ₹{rmse:,.2f}\")"
   ]
  },
  {
   "cell_type": "code",
   "execution_count": 290,
   "id": "53e6503b",
   "metadata": {},
   "outputs": [
    {
     "name": "stdout",
     "output_type": "stream",
     "text": [
      "🏷️ Predicted House Price: ₹3,899,665.30\n"
     ]
    }
   ],
   "source": [
    "# Sample new data\n",
    "new_input = pd.DataFrame([{\n",
    "    'Area': 500,\n",
    "    'BHK': 2,\n",
    "    'Bathroom': 2,                                \n",
    "    'Furnishing': 'Semi Furnished',\n",
    "    'Locality': 'Rohini',\n",
    "    'Parking': 1,\n",
    "    'Status': 'Ready To Move',\n",
    "    'Type': 'Builder Floor'\n",
    "}])\n",
    "\n",
    "# Predict\n",
    "predicted_price = best_model_pipeline.predict(new_input)[0]\n",
    "predicted_price = max(0, predicted_price)\n",
    "\n",
    "print(f\"🏷️ Predicted House Price: ₹{predicted_price:,.2f}\")\n"
   ]
  },
  {
   "cell_type": "code",
   "execution_count": 291,
   "id": "0111568b",
   "metadata": {},
   "outputs": [
    {
     "data": {
      "text/plain": [
       "['best_model.pkl']"
      ]
     },
     "execution_count": 291,
     "metadata": {},
     "output_type": "execute_result"
    }
   ],
   "source": [
    "# Save the model file \n",
    "import joblib\n",
    "\n",
    "joblib.dump(best_model_pipeline, \"best_model.pkl\")\n"
   ]
  }
 ],
 "metadata": {
  "kernelspec": {
   "display_name": "house_predict",
   "language": "python",
   "name": "python3"
  },
  "language_info": {
   "codemirror_mode": {
    "name": "ipython",
    "version": 3
   },
   "file_extension": ".py",
   "mimetype": "text/x-python",
   "name": "python",
   "nbconvert_exporter": "python",
   "pygments_lexer": "ipython3",
   "version": "3.13.5"
  }
 },
 "nbformat": 4,
 "nbformat_minor": 5
}
